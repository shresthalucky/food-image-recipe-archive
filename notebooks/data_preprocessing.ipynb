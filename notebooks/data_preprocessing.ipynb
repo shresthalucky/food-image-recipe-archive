{
 "cells": [
  {
   "cell_type": "markdown",
   "id": "b4be83ac",
   "metadata": {},
   "source": [
    "# Imports"
   ]
  },
  {
   "cell_type": "code",
   "execution_count": 1,
   "id": "42d43aff",
   "metadata": {},
   "outputs": [],
   "source": [
    "import json\n",
    "import csv\n",
    "from pprint import pprint\n",
    "\n",
    "from tqdm import tqdm\n",
    "import pandas as pd"
   ]
  },
  {
   "cell_type": "markdown",
   "id": "235dee07",
   "metadata": {},
   "source": [
    "# Open datasets as DataFrames"
   ]
  },
  {
   "cell_type": "code",
   "execution_count": 2,
   "id": "8fa24084",
   "metadata": {},
   "outputs": [
    {
     "name": "stdout",
     "output_type": "stream",
     "text": [
      "\u001b[0m\u001b[01;34mrecipe1M_images_train\u001b[0m/  \u001b[01;32mlayer2.json\u001b[0m*\r\n",
      "\u001b[01;32mdet_ingrs.json\u001b[0m*         \u001b[01;32mrecipe1M_images_train.tar\u001b[0m*\r\n",
      "\u001b[01;32mfiltered.csv\u001b[0m*           \u001b[01;32mrecipe1M_layers.tar.gz\u001b[0m*\r\n",
      "\u001b[01;32mlayer1.csv\u001b[0m*             \u001b[01;32mtrain_dataset_with_images.csv\u001b[0m*\r\n",
      "\u001b[01;32mlayer1.json\u001b[0m*            \u001b[01;32mtrain_filtered.csv\u001b[0m*\r\n",
      "\u001b[01;32mlayer2.csv\u001b[0m*\r\n"
     ]
    }
   ],
   "source": [
    "!ls ../dataset"
   ]
  },
  {
   "cell_type": "code",
   "execution_count": 3,
   "id": "8e787725",
   "metadata": {},
   "outputs": [],
   "source": [
    "df_layer1 = pd.read_csv(\"../dataset/layer1.csv\")\n",
    "df_layer2 = pd.read_csv(\"../dataset/layer2.csv\")"
   ]
  },
  {
   "cell_type": "code",
   "execution_count": 4,
   "id": "58043ffe",
   "metadata": {},
   "outputs": [
    {
     "data": {
      "text/html": [
       "<div>\n",
       "<style scoped>\n",
       "    .dataframe tbody tr th:only-of-type {\n",
       "        vertical-align: middle;\n",
       "    }\n",
       "\n",
       "    .dataframe tbody tr th {\n",
       "        vertical-align: top;\n",
       "    }\n",
       "\n",
       "    .dataframe thead th {\n",
       "        text-align: right;\n",
       "    }\n",
       "</style>\n",
       "<table border=\"1\" class=\"dataframe\">\n",
       "  <thead>\n",
       "    <tr style=\"text-align: right;\">\n",
       "      <th></th>\n",
       "      <th>id</th>\n",
       "      <th>title</th>\n",
       "      <th>partition</th>\n",
       "      <th>url</th>\n",
       "      <th>instructions</th>\n",
       "      <th>ingredients</th>\n",
       "    </tr>\n",
       "  </thead>\n",
       "  <tbody>\n",
       "    <tr>\n",
       "      <th>0</th>\n",
       "      <td>000018c8a5</td>\n",
       "      <td>Worlds Best Mac and Cheese</td>\n",
       "      <td>train</td>\n",
       "      <td>http://www.epicurious.com/recipes/food/views/-...</td>\n",
       "      <td>Preheat the oven to 350 F. Butter or oil an 8-...</td>\n",
       "      <td>6 ounces penne;2 cups Beechers Flagship Cheese...</td>\n",
       "    </tr>\n",
       "    <tr>\n",
       "      <th>1</th>\n",
       "      <td>000033e39b</td>\n",
       "      <td>Dilly Macaroni Salad Recipe</td>\n",
       "      <td>train</td>\n",
       "      <td>http://cookeatshare.com/recipes/dilly-macaroni...</td>\n",
       "      <td>Cook macaroni according to package directions;...</td>\n",
       "      <td>1 c. elbow macaroni;1 c. cubed American cheese...</td>\n",
       "    </tr>\n",
       "    <tr>\n",
       "      <th>2</th>\n",
       "      <td>000035f7ed</td>\n",
       "      <td>Gazpacho</td>\n",
       "      <td>train</td>\n",
       "      <td>http://www.foodnetwork.com/recipes/gazpacho1.html</td>\n",
       "      <td>Add the tomatoes to a food processor with a pi...</td>\n",
       "      <td>8 tomatoes, quartered;Kosher salt;1 red onion,...</td>\n",
       "    </tr>\n",
       "    <tr>\n",
       "      <th>3</th>\n",
       "      <td>00003a70b1</td>\n",
       "      <td>Crunchy Onion Potato Bake</td>\n",
       "      <td>test</td>\n",
       "      <td>http://www.food.com/recipe/crunchy-onion-potat...</td>\n",
       "      <td>Preheat oven to 350 degrees Fahrenheit.;Spray ...</td>\n",
       "      <td>2 12 cups milk;1 12 cups water;14 cup butter;m...</td>\n",
       "    </tr>\n",
       "    <tr>\n",
       "      <th>4</th>\n",
       "      <td>00004320bb</td>\n",
       "      <td>Cool 'n Easy Creamy Watermelon Pie</td>\n",
       "      <td>train</td>\n",
       "      <td>http://www.food.com/recipe/cool-n-easy-creamy-...</td>\n",
       "      <td>Dissolve Jello in boiling water.;Allow to cool...</td>\n",
       "      <td>1 (3 ounce) package watermelon gelatin;14 cup ...</td>\n",
       "    </tr>\n",
       "  </tbody>\n",
       "</table>\n",
       "</div>"
      ],
      "text/plain": [
       "           id                               title partition  \\\n",
       "0  000018c8a5          Worlds Best Mac and Cheese     train   \n",
       "1  000033e39b         Dilly Macaroni Salad Recipe     train   \n",
       "2  000035f7ed                            Gazpacho     train   \n",
       "3  00003a70b1           Crunchy Onion Potato Bake      test   \n",
       "4  00004320bb  Cool 'n Easy Creamy Watermelon Pie     train   \n",
       "\n",
       "                                                 url  \\\n",
       "0  http://www.epicurious.com/recipes/food/views/-...   \n",
       "1  http://cookeatshare.com/recipes/dilly-macaroni...   \n",
       "2  http://www.foodnetwork.com/recipes/gazpacho1.html   \n",
       "3  http://www.food.com/recipe/crunchy-onion-potat...   \n",
       "4  http://www.food.com/recipe/cool-n-easy-creamy-...   \n",
       "\n",
       "                                        instructions  \\\n",
       "0  Preheat the oven to 350 F. Butter or oil an 8-...   \n",
       "1  Cook macaroni according to package directions;...   \n",
       "2  Add the tomatoes to a food processor with a pi...   \n",
       "3  Preheat oven to 350 degrees Fahrenheit.;Spray ...   \n",
       "4  Dissolve Jello in boiling water.;Allow to cool...   \n",
       "\n",
       "                                         ingredients  \n",
       "0  6 ounces penne;2 cups Beechers Flagship Cheese...  \n",
       "1  1 c. elbow macaroni;1 c. cubed American cheese...  \n",
       "2  8 tomatoes, quartered;Kosher salt;1 red onion,...  \n",
       "3  2 12 cups milk;1 12 cups water;14 cup butter;m...  \n",
       "4  1 (3 ounce) package watermelon gelatin;14 cup ...  "
      ]
     },
     "execution_count": 4,
     "metadata": {},
     "output_type": "execute_result"
    }
   ],
   "source": [
    "df_layer1.head()"
   ]
  },
  {
   "cell_type": "code",
   "execution_count": 5,
   "id": "b26d6c14",
   "metadata": {},
   "outputs": [
    {
     "data": {
      "text/html": [
       "<div>\n",
       "<style scoped>\n",
       "    .dataframe tbody tr th:only-of-type {\n",
       "        vertical-align: middle;\n",
       "    }\n",
       "\n",
       "    .dataframe tbody tr th {\n",
       "        vertical-align: top;\n",
       "    }\n",
       "\n",
       "    .dataframe thead th {\n",
       "        text-align: right;\n",
       "    }\n",
       "</style>\n",
       "<table border=\"1\" class=\"dataframe\">\n",
       "  <thead>\n",
       "    <tr style=\"text-align: right;\">\n",
       "      <th></th>\n",
       "      <th>id</th>\n",
       "      <th>image_file_names</th>\n",
       "    </tr>\n",
       "  </thead>\n",
       "  <tbody>\n",
       "    <tr>\n",
       "      <th>0</th>\n",
       "      <td>00003a70b1</td>\n",
       "      <td>3e233001e2.jpg;7f749987f9.jpg;aaf6b2dcd3.jpg</td>\n",
       "    </tr>\n",
       "    <tr>\n",
       "      <th>1</th>\n",
       "      <td>000075604a</td>\n",
       "      <td>6bdca6e490.jpg</td>\n",
       "    </tr>\n",
       "    <tr>\n",
       "      <th>2</th>\n",
       "      <td>00007bfd16</td>\n",
       "      <td>6409eab844.jpg;f7cb3de295.jpg</td>\n",
       "    </tr>\n",
       "    <tr>\n",
       "      <th>3</th>\n",
       "      <td>000095fc1d</td>\n",
       "      <td>a1374cdd98.jpg</td>\n",
       "    </tr>\n",
       "    <tr>\n",
       "      <th>4</th>\n",
       "      <td>0000b1e2b5</td>\n",
       "      <td>cb1a684683.jpg</td>\n",
       "    </tr>\n",
       "  </tbody>\n",
       "</table>\n",
       "</div>"
      ],
      "text/plain": [
       "           id                              image_file_names\n",
       "0  00003a70b1  3e233001e2.jpg;7f749987f9.jpg;aaf6b2dcd3.jpg\n",
       "1  000075604a                                6bdca6e490.jpg\n",
       "2  00007bfd16                 6409eab844.jpg;f7cb3de295.jpg\n",
       "3  000095fc1d                                a1374cdd98.jpg\n",
       "4  0000b1e2b5                                cb1a684683.jpg"
      ]
     },
     "execution_count": 5,
     "metadata": {},
     "output_type": "execute_result"
    }
   ],
   "source": [
    "df_layer2.head()"
   ]
  },
  {
   "cell_type": "code",
   "execution_count": 6,
   "id": "93fdda0d",
   "metadata": {},
   "outputs": [
    {
     "data": {
      "text/plain": [
       "False"
      ]
     },
     "execution_count": 6,
     "metadata": {},
     "output_type": "execute_result"
    }
   ],
   "source": [
    "# Check if every recipe has image\n",
    "\n",
    "len(df_layer1)==len(df_layer2)"
   ]
  },
  {
   "cell_type": "code",
   "execution_count": 7,
   "id": "7fdc97b6",
   "metadata": {},
   "outputs": [],
   "source": [
    "from pathlib import Path\n",
    "\n",
    "def get_file(id: str) -> Path:\n",
    "    \"\"\"\n",
    "    Get path from the id of the image\n",
    "    \"\"\"\n",
    "    char = [_ for _ in id[:4]]\n",
    "    return Path('../dataset/recipe1M_images_train/train')/char[0]/char[1]/char[2]/char[3]/f\"{id}\""
   ]
  },
  {
   "cell_type": "markdown",
   "id": "e22f99f3",
   "metadata": {},
   "source": [
    "# Create DataFrame with recipes that are supposed to have images"
   ]
  },
  {
   "cell_type": "code",
   "execution_count": 8,
   "id": "d8b1c690",
   "metadata": {},
   "outputs": [
    {
     "data": {
      "text/plain": [
       "402760"
      ]
     },
     "execution_count": 8,
     "metadata": {},
     "output_type": "execute_result"
    }
   ],
   "source": [
    "df3 = pd.merge(df_layer1, df_layer2, on=\"id\")\n",
    "len(df3)"
   ]
  },
  {
   "cell_type": "code",
   "execution_count": 9,
   "id": "2546cb23",
   "metadata": {},
   "outputs": [
    {
     "data": {
      "text/html": [
       "<div>\n",
       "<style scoped>\n",
       "    .dataframe tbody tr th:only-of-type {\n",
       "        vertical-align: middle;\n",
       "    }\n",
       "\n",
       "    .dataframe tbody tr th {\n",
       "        vertical-align: top;\n",
       "    }\n",
       "\n",
       "    .dataframe thead th {\n",
       "        text-align: right;\n",
       "    }\n",
       "</style>\n",
       "<table border=\"1\" class=\"dataframe\">\n",
       "  <thead>\n",
       "    <tr style=\"text-align: right;\">\n",
       "      <th></th>\n",
       "      <th>id</th>\n",
       "      <th>title</th>\n",
       "      <th>partition</th>\n",
       "      <th>url</th>\n",
       "      <th>instructions</th>\n",
       "      <th>ingredients</th>\n",
       "      <th>image_file_names</th>\n",
       "    </tr>\n",
       "  </thead>\n",
       "  <tbody>\n",
       "    <tr>\n",
       "      <th>0</th>\n",
       "      <td>00003a70b1</td>\n",
       "      <td>Crunchy Onion Potato Bake</td>\n",
       "      <td>test</td>\n",
       "      <td>http://www.food.com/recipe/crunchy-onion-potat...</td>\n",
       "      <td>Preheat oven to 350 degrees Fahrenheit.;Spray ...</td>\n",
       "      <td>2 12 cups milk;1 12 cups water;14 cup butter;m...</td>\n",
       "      <td>3e233001e2.jpg;7f749987f9.jpg;aaf6b2dcd3.jpg</td>\n",
       "    </tr>\n",
       "    <tr>\n",
       "      <th>1</th>\n",
       "      <td>000075604a</td>\n",
       "      <td>Kombu Tea Grilled Chicken Thigh</td>\n",
       "      <td>train</td>\n",
       "      <td>https://cookpad.com/us/recipes/150100-kombu-te...</td>\n",
       "      <td>Pierce the skin of the chicken with a fork or ...</td>\n",
       "      <td>2 Chicken thighs;2 tsp Kombu tea;1 White pepper</td>\n",
       "      <td>6bdca6e490.jpg</td>\n",
       "    </tr>\n",
       "    <tr>\n",
       "      <th>2</th>\n",
       "      <td>00007bfd16</td>\n",
       "      <td>Strawberry Rhubarb Dump Cake</td>\n",
       "      <td>train</td>\n",
       "      <td>http://www.food.com/recipe/strawberry-rhubarb-...</td>\n",
       "      <td>Put ingredients in a buttered 9 x 12 x 2-inch ...</td>\n",
       "      <td>6 -8 cups fresh rhubarb, or;6 -8 cups frozen r...</td>\n",
       "      <td>6409eab844.jpg;f7cb3de295.jpg</td>\n",
       "    </tr>\n",
       "    <tr>\n",
       "      <th>3</th>\n",
       "      <td>000095fc1d</td>\n",
       "      <td>Yogurt Parfaits</td>\n",
       "      <td>train</td>\n",
       "      <td>http://tastykitchen.com/recipes/breakfastbrunc...</td>\n",
       "      <td>Layer all ingredients in a serving dish.</td>\n",
       "      <td>8 ounces, weight Light Fat Free Vanilla Yogurt...</td>\n",
       "      <td>a1374cdd98.jpg</td>\n",
       "    </tr>\n",
       "    <tr>\n",
       "      <th>4</th>\n",
       "      <td>0000b1e2b5</td>\n",
       "      <td>Fennel-Rubbed Pork Tenderloin with Roasted Fen...</td>\n",
       "      <td>train</td>\n",
       "      <td>http://www.epicurious.com/recipes/food/views/f...</td>\n",
       "      <td>Preheat oven to 350F with rack in middle.;Crus...</td>\n",
       "      <td>1 teaspoon fennel seeds;1 pound pork tenderloi...</td>\n",
       "      <td>cb1a684683.jpg</td>\n",
       "    </tr>\n",
       "  </tbody>\n",
       "</table>\n",
       "</div>"
      ],
      "text/plain": [
       "           id                                              title partition  \\\n",
       "0  00003a70b1                          Crunchy Onion Potato Bake      test   \n",
       "1  000075604a                    Kombu Tea Grilled Chicken Thigh     train   \n",
       "2  00007bfd16                       Strawberry Rhubarb Dump Cake     train   \n",
       "3  000095fc1d                                    Yogurt Parfaits     train   \n",
       "4  0000b1e2b5  Fennel-Rubbed Pork Tenderloin with Roasted Fen...     train   \n",
       "\n",
       "                                                 url  \\\n",
       "0  http://www.food.com/recipe/crunchy-onion-potat...   \n",
       "1  https://cookpad.com/us/recipes/150100-kombu-te...   \n",
       "2  http://www.food.com/recipe/strawberry-rhubarb-...   \n",
       "3  http://tastykitchen.com/recipes/breakfastbrunc...   \n",
       "4  http://www.epicurious.com/recipes/food/views/f...   \n",
       "\n",
       "                                        instructions  \\\n",
       "0  Preheat oven to 350 degrees Fahrenheit.;Spray ...   \n",
       "1  Pierce the skin of the chicken with a fork or ...   \n",
       "2  Put ingredients in a buttered 9 x 12 x 2-inch ...   \n",
       "3           Layer all ingredients in a serving dish.   \n",
       "4  Preheat oven to 350F with rack in middle.;Crus...   \n",
       "\n",
       "                                         ingredients  \\\n",
       "0  2 12 cups milk;1 12 cups water;14 cup butter;m...   \n",
       "1    2 Chicken thighs;2 tsp Kombu tea;1 White pepper   \n",
       "2  6 -8 cups fresh rhubarb, or;6 -8 cups frozen r...   \n",
       "3  8 ounces, weight Light Fat Free Vanilla Yogurt...   \n",
       "4  1 teaspoon fennel seeds;1 pound pork tenderloi...   \n",
       "\n",
       "                               image_file_names  \n",
       "0  3e233001e2.jpg;7f749987f9.jpg;aaf6b2dcd3.jpg  \n",
       "1                                6bdca6e490.jpg  \n",
       "2                 6409eab844.jpg;f7cb3de295.jpg  \n",
       "3                                a1374cdd98.jpg  \n",
       "4                                cb1a684683.jpg  "
      ]
     },
     "execution_count": 9,
     "metadata": {},
     "output_type": "execute_result"
    }
   ],
   "source": [
    "df3.head()"
   ]
  },
  {
   "cell_type": "code",
   "execution_count": 10,
   "id": "a4c72d0a",
   "metadata": {},
   "outputs": [],
   "source": [
    "df3.to_csv(\"../dataset/train_filtered.csv\", index=False)"
   ]
  },
  {
   "cell_type": "code",
   "execution_count": 11,
   "id": "698d8b43",
   "metadata": {},
   "outputs": [
    {
     "name": "stdout",
     "output_type": "stream",
     "text": [
      "-rwxr-xr-x 1 chitrey chitrey 413M 2021-08-21 13:54 \u001b[0m\u001b[01;32m../dataset/filtered.csv\u001b[0m*\r\n"
     ]
    }
   ],
   "source": [
    "!ls -alh ../dataset/filtered.csv"
   ]
  },
  {
   "cell_type": "code",
   "execution_count": 12,
   "id": "d1838282",
   "metadata": {},
   "outputs": [],
   "source": [
    "def filter_rows_with_image(portion: str, length: int):\n",
    "    \"\"\"\n",
    "    Filter out the rows from dataframe that doesn't have images\n",
    "    in image directory\n",
    "    \"\"\"\n",
    "\n",
    "    with open(\"../dataset/filtered.csv\", 'r') as infile:\n",
    "        reader = csv.reader(infile)\n",
    "        with open(f\"../dataset/{portion}_dataset_with_images.csv\", 'w') as outfile:\n",
    "            writer = csv.writer(outfile)\n",
    "            writer.writerow(next(reader))\n",
    "            for row in tqdm(reader, total=length):\n",
    "                if row[2] == portion:\n",
    "                    images = row[6].split(';')\n",
    "                    valid_images = [image for image in images if get_file(image).exists()]\n",
    "                    if valid_images:\n",
    "                        row[6] =  ';'.join(valid_images)\n",
    "                        writer.writerow(row)"
   ]
  },
  {
   "cell_type": "code",
   "execution_count": 13,
   "id": "99dcda71",
   "metadata": {},
   "outputs": [
    {
     "name": "stderr",
     "output_type": "stream",
     "text": [
      "100%|███████████████████████████████████████████████████████████████████████████████████████████████████████████████████████████████████████████████████████████████████| 402760/402760 [1:38:10<00:00, 68.37it/s]\n"
     ]
    }
   ],
   "source": [
    "filter_rows_with_image(\"train\", len(df3.index))"
   ]
  },
  {
   "cell_type": "code",
   "execution_count": 14,
   "id": "543a2f45",
   "metadata": {},
   "outputs": [
    {
     "name": "stdout",
     "output_type": "stream",
     "text": [
      "-rwxr-xr-x 1 chitrey chitrey 290M 2021-08-22 09:42 \u001b[0m\u001b[01;32m../dataset/train_dataset_with_images.csv\u001b[0m*\r\n"
     ]
    }
   ],
   "source": [
    "!ls -alh ../dataset/train_dataset_with_images.csv"
   ]
  },
  {
   "cell_type": "code",
   "execution_count": 15,
   "id": "6553822b",
   "metadata": {},
   "outputs": [
    {
     "data": {
      "text/html": [
       "<div>\n",
       "<style scoped>\n",
       "    .dataframe tbody tr th:only-of-type {\n",
       "        vertical-align: middle;\n",
       "    }\n",
       "\n",
       "    .dataframe tbody tr th {\n",
       "        vertical-align: top;\n",
       "    }\n",
       "\n",
       "    .dataframe thead th {\n",
       "        text-align: right;\n",
       "    }\n",
       "</style>\n",
       "<table border=\"1\" class=\"dataframe\">\n",
       "  <thead>\n",
       "    <tr style=\"text-align: right;\">\n",
       "      <th></th>\n",
       "      <th>id</th>\n",
       "      <th>title</th>\n",
       "      <th>partition</th>\n",
       "      <th>url</th>\n",
       "      <th>instructions</th>\n",
       "      <th>ingredients</th>\n",
       "      <th>image_file_names</th>\n",
       "    </tr>\n",
       "  </thead>\n",
       "  <tbody>\n",
       "    <tr>\n",
       "      <th>0</th>\n",
       "      <td>000075604a</td>\n",
       "      <td>Kombu Tea Grilled Chicken Thigh</td>\n",
       "      <td>train</td>\n",
       "      <td>https://cookpad.com/us/recipes/150100-kombu-te...</td>\n",
       "      <td>Pierce the skin of the chicken with a fork or ...</td>\n",
       "      <td>2 Chicken thighs;2 tsp Kombu tea;1 White pepper</td>\n",
       "      <td>6bdca6e490.jpg</td>\n",
       "    </tr>\n",
       "    <tr>\n",
       "      <th>1</th>\n",
       "      <td>00007bfd16</td>\n",
       "      <td>Strawberry Rhubarb Dump Cake</td>\n",
       "      <td>train</td>\n",
       "      <td>http://www.food.com/recipe/strawberry-rhubarb-...</td>\n",
       "      <td>Put ingredients in a buttered 9 x 12 x 2-inch ...</td>\n",
       "      <td>6 -8 cups fresh rhubarb, or;6 -8 cups frozen r...</td>\n",
       "      <td>6409eab844.jpg;f7cb3de295.jpg</td>\n",
       "    </tr>\n",
       "    <tr>\n",
       "      <th>2</th>\n",
       "      <td>000095fc1d</td>\n",
       "      <td>Yogurt Parfaits</td>\n",
       "      <td>train</td>\n",
       "      <td>http://tastykitchen.com/recipes/breakfastbrunc...</td>\n",
       "      <td>Layer all ingredients in a serving dish.</td>\n",
       "      <td>8 ounces, weight Light Fat Free Vanilla Yogurt...</td>\n",
       "      <td>a1374cdd98.jpg</td>\n",
       "    </tr>\n",
       "    <tr>\n",
       "      <th>3</th>\n",
       "      <td>0000b1e2b5</td>\n",
       "      <td>Fennel-Rubbed Pork Tenderloin with Roasted Fen...</td>\n",
       "      <td>train</td>\n",
       "      <td>http://www.epicurious.com/recipes/food/views/f...</td>\n",
       "      <td>Preheat oven to 350F with rack in middle.;Crus...</td>\n",
       "      <td>1 teaspoon fennel seeds;1 pound pork tenderloi...</td>\n",
       "      <td>cb1a684683.jpg</td>\n",
       "    </tr>\n",
       "    <tr>\n",
       "      <th>4</th>\n",
       "      <td>0000c79afb</td>\n",
       "      <td>Pink Sangria</td>\n",
       "      <td>train</td>\n",
       "      <td>http://www.food.com/recipe/pink-sangria-305385</td>\n",
       "      <td>In a pitcher, combine all the ingredients exce...</td>\n",
       "      <td>1 (750 ml) bottle rose wine, chilled;14 cup br...</td>\n",
       "      <td>2f4b4c4452.jpg</td>\n",
       "    </tr>\n",
       "  </tbody>\n",
       "</table>\n",
       "</div>"
      ],
      "text/plain": [
       "           id                                              title partition  \\\n",
       "0  000075604a                    Kombu Tea Grilled Chicken Thigh     train   \n",
       "1  00007bfd16                       Strawberry Rhubarb Dump Cake     train   \n",
       "2  000095fc1d                                    Yogurt Parfaits     train   \n",
       "3  0000b1e2b5  Fennel-Rubbed Pork Tenderloin with Roasted Fen...     train   \n",
       "4  0000c79afb                                       Pink Sangria     train   \n",
       "\n",
       "                                                 url  \\\n",
       "0  https://cookpad.com/us/recipes/150100-kombu-te...   \n",
       "1  http://www.food.com/recipe/strawberry-rhubarb-...   \n",
       "2  http://tastykitchen.com/recipes/breakfastbrunc...   \n",
       "3  http://www.epicurious.com/recipes/food/views/f...   \n",
       "4     http://www.food.com/recipe/pink-sangria-305385   \n",
       "\n",
       "                                        instructions  \\\n",
       "0  Pierce the skin of the chicken with a fork or ...   \n",
       "1  Put ingredients in a buttered 9 x 12 x 2-inch ...   \n",
       "2           Layer all ingredients in a serving dish.   \n",
       "3  Preheat oven to 350F with rack in middle.;Crus...   \n",
       "4  In a pitcher, combine all the ingredients exce...   \n",
       "\n",
       "                                         ingredients  \\\n",
       "0    2 Chicken thighs;2 tsp Kombu tea;1 White pepper   \n",
       "1  6 -8 cups fresh rhubarb, or;6 -8 cups frozen r...   \n",
       "2  8 ounces, weight Light Fat Free Vanilla Yogurt...   \n",
       "3  1 teaspoon fennel seeds;1 pound pork tenderloi...   \n",
       "4  1 (750 ml) bottle rose wine, chilled;14 cup br...   \n",
       "\n",
       "                image_file_names  \n",
       "0                 6bdca6e490.jpg  \n",
       "1  6409eab844.jpg;f7cb3de295.jpg  \n",
       "2                 a1374cdd98.jpg  \n",
       "3                 cb1a684683.jpg  \n",
       "4                 2f4b4c4452.jpg  "
      ]
     },
     "execution_count": 15,
     "metadata": {},
     "output_type": "execute_result"
    }
   ],
   "source": [
    "pd.read_csv(\"../dataset/train_dataset_with_images.csv\").head()"
   ]
  },
  {
   "cell_type": "markdown",
   "id": "7e73f821",
   "metadata": {},
   "source": [
    "# Cleanup"
   ]
  },
  {
   "cell_type": "code",
   "execution_count": 16,
   "id": "046b02c8",
   "metadata": {},
   "outputs": [],
   "source": [
    "!rm ../dataset/train_filtered.csv"
   ]
  }
 ],
 "metadata": {
  "kernelspec": {
   "display_name": "bct-major-project-qEk8IkNK",
   "language": "python",
   "name": "bct-major-project-qek8iknk"
  },
  "language_info": {
   "codemirror_mode": {
    "name": "ipython",
    "version": 3
   },
   "file_extension": ".py",
   "mimetype": "text/x-python",
   "name": "python",
   "nbconvert_exporter": "python",
   "pygments_lexer": "ipython3",
   "version": "3.9.6"
  }
 },
 "nbformat": 4,
 "nbformat_minor": 5
}
