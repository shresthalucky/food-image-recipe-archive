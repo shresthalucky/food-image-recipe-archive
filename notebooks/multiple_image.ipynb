{
 "cells": [
  {
   "cell_type": "code",
   "execution_count": 18,
   "id": "e024f0dd",
   "metadata": {},
   "outputs": [],
   "source": [
    "import pandas as pd"
   ]
  },
  {
   "cell_type": "code",
   "execution_count": 19,
   "id": "fee0d7d3",
   "metadata": {},
   "outputs": [],
   "source": [
    "def get_single_df(df):\n",
    "    singles = [(id, i) for id, images in zip(df[\"id\"], df[\"image_file_names\"]) for i in images.split(\";\")]\n",
    "    single_df = pd.DataFrame(singles, columns=[\"id\", \"image_file_names\"])\n",
    "\n",
    "    replicated_df = pd.merge(df, single_df, on=\"id\")\n",
    "    replicated_df[\"image_file_names\"] = replicated_df[\"image_file_names_y\"]\n",
    "    return replicated_df.drop([\"image_file_names_x\", \"image_file_names_y\"], axis=1)"
   ]
  },
  {
   "cell_type": "code",
   "execution_count": 20,
   "id": "282221b3",
   "metadata": {},
   "outputs": [],
   "source": [
    "test_df = pd.read_csv(\"../dataset/new_merged/test_merged.csv\")\n",
    "single_test_df = get_single_df(test_df)"
   ]
  },
  {
   "cell_type": "code",
   "execution_count": 21,
   "id": "5a7ebda6",
   "metadata": {},
   "outputs": [],
   "source": [
    "single_test_df.to_csv(\"../dataset/for_class/test_class.csv\", index=False)"
   ]
  },
  {
   "cell_type": "code",
   "execution_count": 22,
   "id": "cdad2e46",
   "metadata": {},
   "outputs": [],
   "source": [
    "train_df = pd.read_csv(\"../dataset/new_merged/train_merged.csv\")\n",
    "single_train_df = get_single_df(train_df)"
   ]
  },
  {
   "cell_type": "code",
   "execution_count": 23,
   "id": "b10298e6",
   "metadata": {},
   "outputs": [],
   "source": [
    "single_train_df.to_csv(\"../dataset/for_class/train_class.csv\", index=False)"
   ]
  },
  {
   "cell_type": "code",
   "execution_count": 24,
   "id": "994b7acf",
   "metadata": {},
   "outputs": [],
   "source": [
    "val_df = pd.read_csv(\"../dataset/new_merged/val_merged.csv\")\n",
    "single_val_df = get_single_df(val_df)"
   ]
  },
  {
   "cell_type": "code",
   "execution_count": 25,
   "id": "5178c814",
   "metadata": {},
   "outputs": [],
   "source": [
    "single_val_df.to_csv(\"../dataset/for_class/val_class.csv\", index=False)"
   ]
  },
  {
   "cell_type": "code",
   "execution_count": 32,
   "id": "b03b03e5",
   "metadata": {},
   "outputs": [
    {
     "data": {
      "text/html": [
       "<div>\n",
       "<style scoped>\n",
       "    .dataframe tbody tr th:only-of-type {\n",
       "        vertical-align: middle;\n",
       "    }\n",
       "\n",
       "    .dataframe tbody tr th {\n",
       "        vertical-align: top;\n",
       "    }\n",
       "\n",
       "    .dataframe thead th {\n",
       "        text-align: right;\n",
       "    }\n",
       "</style>\n",
       "<table border=\"1\" class=\"dataframe\">\n",
       "  <thead>\n",
       "    <tr style=\"text-align: right;\">\n",
       "      <th></th>\n",
       "      <th>id</th>\n",
       "      <th>title</th>\n",
       "      <th>partition</th>\n",
       "      <th>url</th>\n",
       "      <th>instructions</th>\n",
       "      <th>base_ingrs</th>\n",
       "      <th>image_file_names</th>\n",
       "    </tr>\n",
       "  </thead>\n",
       "  <tbody>\n",
       "    <tr>\n",
       "      <th>0</th>\n",
       "      <td>00183acce9</td>\n",
       "      <td>Italian Vegetarian Patties</td>\n",
       "      <td>test</td>\n",
       "      <td>http://allrecipes.com/recipe/italian-vegetaria...</td>\n",
       "      <td>Heat 2 tablespoons oil in a large saucepan.;St...</td>\n",
       "      <td>egg;salt;breadcrumbs;garlic;cheese;water;oil;r...</td>\n",
       "      <td>4aa71d889a.jpg</td>\n",
       "    </tr>\n",
       "    <tr>\n",
       "      <th>1</th>\n",
       "      <td>00183acce9</td>\n",
       "      <td>Italian Vegetarian Patties</td>\n",
       "      <td>test</td>\n",
       "      <td>http://allrecipes.com/recipe/italian-vegetaria...</td>\n",
       "      <td>Heat 2 tablespoons oil in a large saucepan.;St...</td>\n",
       "      <td>egg;salt;breadcrumbs;garlic;cheese;water;oil;r...</td>\n",
       "      <td>89b3fa3935.jpg</td>\n",
       "    </tr>\n",
       "    <tr>\n",
       "      <th>2</th>\n",
       "      <td>001ee1021c</td>\n",
       "      <td>White Beans With Lemon, Garlic and Rosemary</td>\n",
       "      <td>test</td>\n",
       "      <td>http://www.food.com/recipe/white-beans-with-le...</td>\n",
       "      <td>In a small pan, combine the rosemary sprigs, o...</td>\n",
       "      <td>clove;salt;lemon;beans;cheese;oil;pepper;onion...</td>\n",
       "      <td>42893ae184.jpg</td>\n",
       "    </tr>\n",
       "    <tr>\n",
       "      <th>3</th>\n",
       "      <td>001ee1021c</td>\n",
       "      <td>White Beans With Lemon, Garlic and Rosemary</td>\n",
       "      <td>test</td>\n",
       "      <td>http://www.food.com/recipe/white-beans-with-le...</td>\n",
       "      <td>In a small pan, combine the rosemary sprigs, o...</td>\n",
       "      <td>clove;salt;lemon;beans;cheese;oil;pepper;onion...</td>\n",
       "      <td>b2e2997c3e.jpg</td>\n",
       "    </tr>\n",
       "    <tr>\n",
       "      <th>4</th>\n",
       "      <td>00234a6bd1</td>\n",
       "      <td>Ants Climbing a Tree</td>\n",
       "      <td>test</td>\n",
       "      <td>http://tastykitchen.com/recipes/main-courses/a...</td>\n",
       "      <td>1.;Mix cornstarch and water into a slurry, the...</td>\n",
       "      <td>wine;cornstarch;soy_sauce;garlic;water;pork;ch...</td>\n",
       "      <td>89c648b622.jpg</td>\n",
       "    </tr>\n",
       "  </tbody>\n",
       "</table>\n",
       "</div>"
      ],
      "text/plain": [
       "           id                                        title partition  \\\n",
       "0  00183acce9                   Italian Vegetarian Patties      test   \n",
       "1  00183acce9                   Italian Vegetarian Patties      test   \n",
       "2  001ee1021c  White Beans With Lemon, Garlic and Rosemary      test   \n",
       "3  001ee1021c  White Beans With Lemon, Garlic and Rosemary      test   \n",
       "4  00234a6bd1                         Ants Climbing a Tree      test   \n",
       "\n",
       "                                                 url  \\\n",
       "0  http://allrecipes.com/recipe/italian-vegetaria...   \n",
       "1  http://allrecipes.com/recipe/italian-vegetaria...   \n",
       "2  http://www.food.com/recipe/white-beans-with-le...   \n",
       "3  http://www.food.com/recipe/white-beans-with-le...   \n",
       "4  http://tastykitchen.com/recipes/main-courses/a...   \n",
       "\n",
       "                                        instructions  \\\n",
       "0  Heat 2 tablespoons oil in a large saucepan.;St...   \n",
       "1  Heat 2 tablespoons oil in a large saucepan.;St...   \n",
       "2  In a small pan, combine the rosemary sprigs, o...   \n",
       "3  In a small pan, combine the rosemary sprigs, o...   \n",
       "4  1.;Mix cornstarch and water into a slurry, the...   \n",
       "\n",
       "                                          base_ingrs image_file_names  \n",
       "0  egg;salt;breadcrumbs;garlic;cheese;water;oil;r...   4aa71d889a.jpg  \n",
       "1  egg;salt;breadcrumbs;garlic;cheese;water;oil;r...   89b3fa3935.jpg  \n",
       "2  clove;salt;lemon;beans;cheese;oil;pepper;onion...   42893ae184.jpg  \n",
       "3  clove;salt;lemon;beans;cheese;oil;pepper;onion...   b2e2997c3e.jpg  \n",
       "4  wine;cornstarch;soy_sauce;garlic;water;pork;ch...   89c648b622.jpg  "
      ]
     },
     "execution_count": 32,
     "metadata": {},
     "output_type": "execute_result"
    }
   ],
   "source": [
    "single_test_df.head()"
   ]
  },
  {
   "cell_type": "code",
   "execution_count": 35,
   "id": "d58f3228",
   "metadata": {},
   "outputs": [
    {
     "data": {
      "text/html": [
       "<div>\n",
       "<style scoped>\n",
       "    .dataframe tbody tr th:only-of-type {\n",
       "        vertical-align: middle;\n",
       "    }\n",
       "\n",
       "    .dataframe tbody tr th {\n",
       "        vertical-align: top;\n",
       "    }\n",
       "\n",
       "    .dataframe thead th {\n",
       "        text-align: right;\n",
       "    }\n",
       "</style>\n",
       "<table border=\"1\" class=\"dataframe\">\n",
       "  <thead>\n",
       "    <tr style=\"text-align: right;\">\n",
       "      <th></th>\n",
       "      <th>id</th>\n",
       "      <th>title</th>\n",
       "      <th>partition</th>\n",
       "      <th>url</th>\n",
       "      <th>instructions</th>\n",
       "      <th>base_ingrs</th>\n",
       "      <th>image_file_names</th>\n",
       "    </tr>\n",
       "  </thead>\n",
       "  <tbody>\n",
       "  </tbody>\n",
       "</table>\n",
       "</div>"
      ],
      "text/plain": [
       "Empty DataFrame\n",
       "Columns: [id, title, partition, url, instructions, base_ingrs, image_file_names]\n",
       "Index: []"
      ]
     },
     "execution_count": 35,
     "metadata": {},
     "output_type": "execute_result"
    }
   ],
   "source": [
    "single_test_df[single_test_df[\"id\"] == \"000bba053c\"]"
   ]
  }
 ],
 "metadata": {
  "kernelspec": {
   "display_name": "bct-major-project",
   "language": "python",
   "name": "bct-major-project"
  },
  "language_info": {
   "codemirror_mode": {
    "name": "ipython",
    "version": 3
   },
   "file_extension": ".py",
   "mimetype": "text/x-python",
   "name": "python",
   "nbconvert_exporter": "python",
   "pygments_lexer": "ipython3",
   "version": "3.9.10"
  }
 },
 "nbformat": 4,
 "nbformat_minor": 5
}
