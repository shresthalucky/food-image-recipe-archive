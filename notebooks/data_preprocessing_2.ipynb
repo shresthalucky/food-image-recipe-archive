{
 "cells": [
  {
   "cell_type": "markdown",
   "id": "b4be83ac",
   "metadata": {},
   "source": [
    "# Imports"
   ]
  },
  {
   "cell_type": "code",
   "execution_count": 1,
   "id": "42d43aff",
   "metadata": {},
   "outputs": [],
   "source": [
    "import json\n",
    "import csv\n",
    "from pprint import pprint\n",
    "from typing import Optional\n",
    "\n",
    "from tqdm import tqdm\n",
    "\n",
    "import pandas as pd"
   ]
  },
  {
   "cell_type": "markdown",
   "id": "235dee07",
   "metadata": {},
   "source": [
    "# Open datasets as DataFrames"
   ]
  },
  {
   "cell_type": "code",
   "execution_count": 2,
   "id": "8fa24084",
   "metadata": {},
   "outputs": [
    {
     "name": "stdout",
     "output_type": "stream",
     "text": [
      "\u001b[1;32m det_ingrs.json\u001b[0m  \u001b[1;32m recipe1M_images_test.tar\u001b[0m       \u001b[1;32m val_filtered.csv\u001b[0m\r\n",
      "\u001b[1;32m filtered.csv\u001b[0m    \u001b[1;32m recipe1M_images_val.tar\u001b[0m        \r\n",
      "\u001b[1;34m images\u001b[0m          \u001b[1;32m recipe1M_layers.tar\u001b[0m            \r\n",
      "\u001b[1;32m layer1.csv\u001b[0m      \u001b[1;32m test_dataset_with_images.csv\u001b[0m   \r\n",
      "\u001b[1;32m layer1.json\u001b[0m     \u001b[1;32m test_filtered.csv\u001b[0m              \r\n",
      "\u001b[1;32m layer2.csv\u001b[0m      \u001b[1;32m train_dataset_with_images.csv\u001b[0m  \r\n",
      "\u001b[1;32m layer2.json\u001b[0m     \u001b[1;32m train_filtered.csv\u001b[0m             \r\n",
      "\u001b[1;32m README.md\u001b[0m       \u001b[1;32m val_dataset_with_images.csv\u001b[0m    \r\n"
     ]
    }
   ],
   "source": [
    "!ls ../dataset"
   ]
  },
  {
   "cell_type": "code",
   "execution_count": 3,
   "id": "8e787725",
   "metadata": {},
   "outputs": [],
   "source": [
    "df_layer1 = pd.read_csv(\"../dataset/layer1.csv\")\n",
    "df_layer2 = pd.read_csv(\"../dataset/layer2.csv\")"
   ]
  },
  {
   "cell_type": "code",
   "execution_count": 4,
   "id": "58043ffe",
   "metadata": {},
   "outputs": [
    {
     "data": {
      "text/html": [
       "<div>\n",
       "<style scoped>\n",
       "    .dataframe tbody tr th:only-of-type {\n",
       "        vertical-align: middle;\n",
       "    }\n",
       "\n",
       "    .dataframe tbody tr th {\n",
       "        vertical-align: top;\n",
       "    }\n",
       "\n",
       "    .dataframe thead th {\n",
       "        text-align: right;\n",
       "    }\n",
       "</style>\n",
       "<table border=\"1\" class=\"dataframe\">\n",
       "  <thead>\n",
       "    <tr style=\"text-align: right;\">\n",
       "      <th></th>\n",
       "      <th>id</th>\n",
       "      <th>title</th>\n",
       "      <th>partition</th>\n",
       "      <th>url</th>\n",
       "      <th>instructions</th>\n",
       "      <th>ingredients</th>\n",
       "    </tr>\n",
       "  </thead>\n",
       "  <tbody>\n",
       "    <tr>\n",
       "      <th>0</th>\n",
       "      <td>000018c8a5</td>\n",
       "      <td>Worlds Best Mac and Cheese</td>\n",
       "      <td>train</td>\n",
       "      <td>http://www.epicurious.com/recipes/food/views/-...</td>\n",
       "      <td>Preheat the oven to 350 F. Butter or oil an 8-...</td>\n",
       "      <td>6 ounces penne;2 cups Beechers Flagship Cheese...</td>\n",
       "    </tr>\n",
       "    <tr>\n",
       "      <th>1</th>\n",
       "      <td>000033e39b</td>\n",
       "      <td>Dilly Macaroni Salad Recipe</td>\n",
       "      <td>train</td>\n",
       "      <td>http://cookeatshare.com/recipes/dilly-macaroni...</td>\n",
       "      <td>Cook macaroni according to package directions;...</td>\n",
       "      <td>1 c. elbow macaroni;1 c. cubed American cheese...</td>\n",
       "    </tr>\n",
       "    <tr>\n",
       "      <th>2</th>\n",
       "      <td>000035f7ed</td>\n",
       "      <td>Gazpacho</td>\n",
       "      <td>train</td>\n",
       "      <td>http://www.foodnetwork.com/recipes/gazpacho1.html</td>\n",
       "      <td>Add the tomatoes to a food processor with a pi...</td>\n",
       "      <td>8 tomatoes, quartered;Kosher salt;1 red onion,...</td>\n",
       "    </tr>\n",
       "    <tr>\n",
       "      <th>3</th>\n",
       "      <td>00003a70b1</td>\n",
       "      <td>Crunchy Onion Potato Bake</td>\n",
       "      <td>test</td>\n",
       "      <td>http://www.food.com/recipe/crunchy-onion-potat...</td>\n",
       "      <td>Preheat oven to 350 degrees Fahrenheit.;Spray ...</td>\n",
       "      <td>2 12 cups milk;1 12 cups water;14 cup butter;m...</td>\n",
       "    </tr>\n",
       "    <tr>\n",
       "      <th>4</th>\n",
       "      <td>00004320bb</td>\n",
       "      <td>Cool 'n Easy Creamy Watermelon Pie</td>\n",
       "      <td>train</td>\n",
       "      <td>http://www.food.com/recipe/cool-n-easy-creamy-...</td>\n",
       "      <td>Dissolve Jello in boiling water.;Allow to cool...</td>\n",
       "      <td>1 (3 ounce) package watermelon gelatin;14 cup ...</td>\n",
       "    </tr>\n",
       "  </tbody>\n",
       "</table>\n",
       "</div>"
      ],
      "text/plain": [
       "           id                               title partition  \\\n",
       "0  000018c8a5          Worlds Best Mac and Cheese     train   \n",
       "1  000033e39b         Dilly Macaroni Salad Recipe     train   \n",
       "2  000035f7ed                            Gazpacho     train   \n",
       "3  00003a70b1           Crunchy Onion Potato Bake      test   \n",
       "4  00004320bb  Cool 'n Easy Creamy Watermelon Pie     train   \n",
       "\n",
       "                                                 url  \\\n",
       "0  http://www.epicurious.com/recipes/food/views/-...   \n",
       "1  http://cookeatshare.com/recipes/dilly-macaroni...   \n",
       "2  http://www.foodnetwork.com/recipes/gazpacho1.html   \n",
       "3  http://www.food.com/recipe/crunchy-onion-potat...   \n",
       "4  http://www.food.com/recipe/cool-n-easy-creamy-...   \n",
       "\n",
       "                                        instructions  \\\n",
       "0  Preheat the oven to 350 F. Butter or oil an 8-...   \n",
       "1  Cook macaroni according to package directions;...   \n",
       "2  Add the tomatoes to a food processor with a pi...   \n",
       "3  Preheat oven to 350 degrees Fahrenheit.;Spray ...   \n",
       "4  Dissolve Jello in boiling water.;Allow to cool...   \n",
       "\n",
       "                                         ingredients  \n",
       "0  6 ounces penne;2 cups Beechers Flagship Cheese...  \n",
       "1  1 c. elbow macaroni;1 c. cubed American cheese...  \n",
       "2  8 tomatoes, quartered;Kosher salt;1 red onion,...  \n",
       "3  2 12 cups milk;1 12 cups water;14 cup butter;m...  \n",
       "4  1 (3 ounce) package watermelon gelatin;14 cup ...  "
      ]
     },
     "execution_count": 4,
     "metadata": {},
     "output_type": "execute_result"
    }
   ],
   "source": [
    "df_layer1.head()"
   ]
  },
  {
   "cell_type": "code",
   "execution_count": 5,
   "id": "b26d6c14",
   "metadata": {},
   "outputs": [
    {
     "data": {
      "text/html": [
       "<div>\n",
       "<style scoped>\n",
       "    .dataframe tbody tr th:only-of-type {\n",
       "        vertical-align: middle;\n",
       "    }\n",
       "\n",
       "    .dataframe tbody tr th {\n",
       "        vertical-align: top;\n",
       "    }\n",
       "\n",
       "    .dataframe thead th {\n",
       "        text-align: right;\n",
       "    }\n",
       "</style>\n",
       "<table border=\"1\" class=\"dataframe\">\n",
       "  <thead>\n",
       "    <tr style=\"text-align: right;\">\n",
       "      <th></th>\n",
       "      <th>id</th>\n",
       "      <th>image_file_names</th>\n",
       "    </tr>\n",
       "  </thead>\n",
       "  <tbody>\n",
       "    <tr>\n",
       "      <th>0</th>\n",
       "      <td>00003a70b1</td>\n",
       "      <td>3e233001e2.jpg;7f749987f9.jpg;aaf6b2dcd3.jpg</td>\n",
       "    </tr>\n",
       "    <tr>\n",
       "      <th>1</th>\n",
       "      <td>000075604a</td>\n",
       "      <td>6bdca6e490.jpg</td>\n",
       "    </tr>\n",
       "    <tr>\n",
       "      <th>2</th>\n",
       "      <td>00007bfd16</td>\n",
       "      <td>6409eab844.jpg;f7cb3de295.jpg</td>\n",
       "    </tr>\n",
       "    <tr>\n",
       "      <th>3</th>\n",
       "      <td>000095fc1d</td>\n",
       "      <td>a1374cdd98.jpg</td>\n",
       "    </tr>\n",
       "    <tr>\n",
       "      <th>4</th>\n",
       "      <td>0000b1e2b5</td>\n",
       "      <td>cb1a684683.jpg</td>\n",
       "    </tr>\n",
       "  </tbody>\n",
       "</table>\n",
       "</div>"
      ],
      "text/plain": [
       "           id                              image_file_names\n",
       "0  00003a70b1  3e233001e2.jpg;7f749987f9.jpg;aaf6b2dcd3.jpg\n",
       "1  000075604a                                6bdca6e490.jpg\n",
       "2  00007bfd16                 6409eab844.jpg;f7cb3de295.jpg\n",
       "3  000095fc1d                                a1374cdd98.jpg\n",
       "4  0000b1e2b5                                cb1a684683.jpg"
      ]
     },
     "execution_count": 5,
     "metadata": {},
     "output_type": "execute_result"
    }
   ],
   "source": [
    "df_layer2.head()"
   ]
  },
  {
   "cell_type": "code",
   "execution_count": 6,
   "id": "93fdda0d",
   "metadata": {},
   "outputs": [
    {
     "data": {
      "text/plain": [
       "False"
      ]
     },
     "execution_count": 6,
     "metadata": {},
     "output_type": "execute_result"
    }
   ],
   "source": [
    "# Check if every recipe has image\n",
    "\n",
    "len(df_layer1)==len(df_layer2)"
   ]
  },
  {
   "cell_type": "code",
   "execution_count": 7,
   "id": "7fdc97b6",
   "metadata": {},
   "outputs": [],
   "source": [
    "from pathlib import Path\n",
    "\n",
    "def get_file(id: str, partition: str) -> Path:\n",
    "    \"\"\"\n",
    "    Get path from the id and partition of the image\n",
    "    \"\"\"\n",
    "    char = [_ for _ in id[:4]]\n",
    "    return Path(f'../dataset/images/{partition}')/char[0]/char[1]/char[2]/char[3]/f\"{id}\""
   ]
  },
  {
   "cell_type": "markdown",
   "id": "e22f99f3",
   "metadata": {},
   "source": [
    "# Create DataFrame with recipes that are supposed to have images"
   ]
  },
  {
   "cell_type": "code",
   "execution_count": 8,
   "id": "d8b1c690",
   "metadata": {},
   "outputs": [
    {
     "data": {
      "text/plain": [
       "402760"
      ]
     },
     "execution_count": 8,
     "metadata": {},
     "output_type": "execute_result"
    }
   ],
   "source": [
    "df3 = pd.merge(df_layer1, df_layer2, on=\"id\")\n",
    "len(df3)"
   ]
  },
  {
   "cell_type": "code",
   "execution_count": 9,
   "id": "2546cb23",
   "metadata": {},
   "outputs": [
    {
     "data": {
      "text/html": [
       "<div>\n",
       "<style scoped>\n",
       "    .dataframe tbody tr th:only-of-type {\n",
       "        vertical-align: middle;\n",
       "    }\n",
       "\n",
       "    .dataframe tbody tr th {\n",
       "        vertical-align: top;\n",
       "    }\n",
       "\n",
       "    .dataframe thead th {\n",
       "        text-align: right;\n",
       "    }\n",
       "</style>\n",
       "<table border=\"1\" class=\"dataframe\">\n",
       "  <thead>\n",
       "    <tr style=\"text-align: right;\">\n",
       "      <th></th>\n",
       "      <th>id</th>\n",
       "      <th>title</th>\n",
       "      <th>partition</th>\n",
       "      <th>url</th>\n",
       "      <th>instructions</th>\n",
       "      <th>ingredients</th>\n",
       "      <th>image_file_names</th>\n",
       "    </tr>\n",
       "  </thead>\n",
       "  <tbody>\n",
       "    <tr>\n",
       "      <th>0</th>\n",
       "      <td>00003a70b1</td>\n",
       "      <td>Crunchy Onion Potato Bake</td>\n",
       "      <td>test</td>\n",
       "      <td>http://www.food.com/recipe/crunchy-onion-potat...</td>\n",
       "      <td>Preheat oven to 350 degrees Fahrenheit.;Spray ...</td>\n",
       "      <td>2 12 cups milk;1 12 cups water;14 cup butter;m...</td>\n",
       "      <td>3e233001e2.jpg;7f749987f9.jpg;aaf6b2dcd3.jpg</td>\n",
       "    </tr>\n",
       "    <tr>\n",
       "      <th>1</th>\n",
       "      <td>000075604a</td>\n",
       "      <td>Kombu Tea Grilled Chicken Thigh</td>\n",
       "      <td>train</td>\n",
       "      <td>https://cookpad.com/us/recipes/150100-kombu-te...</td>\n",
       "      <td>Pierce the skin of the chicken with a fork or ...</td>\n",
       "      <td>2 Chicken thighs;2 tsp Kombu tea;1 White pepper</td>\n",
       "      <td>6bdca6e490.jpg</td>\n",
       "    </tr>\n",
       "    <tr>\n",
       "      <th>2</th>\n",
       "      <td>00007bfd16</td>\n",
       "      <td>Strawberry Rhubarb Dump Cake</td>\n",
       "      <td>train</td>\n",
       "      <td>http://www.food.com/recipe/strawberry-rhubarb-...</td>\n",
       "      <td>Put ingredients in a buttered 9 x 12 x 2-inch ...</td>\n",
       "      <td>6 -8 cups fresh rhubarb, or;6 -8 cups frozen r...</td>\n",
       "      <td>6409eab844.jpg;f7cb3de295.jpg</td>\n",
       "    </tr>\n",
       "    <tr>\n",
       "      <th>3</th>\n",
       "      <td>000095fc1d</td>\n",
       "      <td>Yogurt Parfaits</td>\n",
       "      <td>train</td>\n",
       "      <td>http://tastykitchen.com/recipes/breakfastbrunc...</td>\n",
       "      <td>Layer all ingredients in a serving dish.</td>\n",
       "      <td>8 ounces, weight Light Fat Free Vanilla Yogurt...</td>\n",
       "      <td>a1374cdd98.jpg</td>\n",
       "    </tr>\n",
       "    <tr>\n",
       "      <th>4</th>\n",
       "      <td>0000b1e2b5</td>\n",
       "      <td>Fennel-Rubbed Pork Tenderloin with Roasted Fen...</td>\n",
       "      <td>train</td>\n",
       "      <td>http://www.epicurious.com/recipes/food/views/f...</td>\n",
       "      <td>Preheat oven to 350F with rack in middle.;Crus...</td>\n",
       "      <td>1 teaspoon fennel seeds;1 pound pork tenderloi...</td>\n",
       "      <td>cb1a684683.jpg</td>\n",
       "    </tr>\n",
       "  </tbody>\n",
       "</table>\n",
       "</div>"
      ],
      "text/plain": [
       "           id                                              title partition  \\\n",
       "0  00003a70b1                          Crunchy Onion Potato Bake      test   \n",
       "1  000075604a                    Kombu Tea Grilled Chicken Thigh     train   \n",
       "2  00007bfd16                       Strawberry Rhubarb Dump Cake     train   \n",
       "3  000095fc1d                                    Yogurt Parfaits     train   \n",
       "4  0000b1e2b5  Fennel-Rubbed Pork Tenderloin with Roasted Fen...     train   \n",
       "\n",
       "                                                 url  \\\n",
       "0  http://www.food.com/recipe/crunchy-onion-potat...   \n",
       "1  https://cookpad.com/us/recipes/150100-kombu-te...   \n",
       "2  http://www.food.com/recipe/strawberry-rhubarb-...   \n",
       "3  http://tastykitchen.com/recipes/breakfastbrunc...   \n",
       "4  http://www.epicurious.com/recipes/food/views/f...   \n",
       "\n",
       "                                        instructions  \\\n",
       "0  Preheat oven to 350 degrees Fahrenheit.;Spray ...   \n",
       "1  Pierce the skin of the chicken with a fork or ...   \n",
       "2  Put ingredients in a buttered 9 x 12 x 2-inch ...   \n",
       "3           Layer all ingredients in a serving dish.   \n",
       "4  Preheat oven to 350F with rack in middle.;Crus...   \n",
       "\n",
       "                                         ingredients  \\\n",
       "0  2 12 cups milk;1 12 cups water;14 cup butter;m...   \n",
       "1    2 Chicken thighs;2 tsp Kombu tea;1 White pepper   \n",
       "2  6 -8 cups fresh rhubarb, or;6 -8 cups frozen r...   \n",
       "3  8 ounces, weight Light Fat Free Vanilla Yogurt...   \n",
       "4  1 teaspoon fennel seeds;1 pound pork tenderloi...   \n",
       "\n",
       "                               image_file_names  \n",
       "0  3e233001e2.jpg;7f749987f9.jpg;aaf6b2dcd3.jpg  \n",
       "1                                6bdca6e490.jpg  \n",
       "2                 6409eab844.jpg;f7cb3de295.jpg  \n",
       "3                                a1374cdd98.jpg  \n",
       "4                                cb1a684683.jpg  "
      ]
     },
     "execution_count": 9,
     "metadata": {},
     "output_type": "execute_result"
    }
   ],
   "source": [
    "df3.head()"
   ]
  },
  {
   "cell_type": "code",
   "execution_count": 10,
   "id": "a4c72d0a",
   "metadata": {},
   "outputs": [],
   "source": [
    "df3.to_csv(\"../dataset/filtered.csv\")"
   ]
  },
  {
   "cell_type": "code",
   "execution_count": 11,
   "id": "698d8b43",
   "metadata": {},
   "outputs": [
    {
     "name": "stdout",
     "output_type": "stream",
     "text": [
      "\u001b[1;32m.\u001b[0m\u001b[32mr\u001b[33mw\u001b[31mx\u001b[32mr\u001b[33mw\u001b[31mx\u001b[32mr\u001b[33mw\u001b[31mx\u001b[0m \u001b[38;5;230mlucky\u001b[0m \u001b[38;5;187mlucky\u001b[0m \u001b[38;5;216m416\u001b[0m \u001b[38;5;216mMB\u001b[0m \u001b[38;5;40mFri Aug 20 18:34:49 2021\u001b[0m \u001b[1;32m ../dataset/filtered.csv\u001b[0m\r\n"
     ]
    }
   ],
   "source": [
    "!ls -alh ../dataset/filtered.csv"
   ]
  },
  {
   "cell_type": "code",
   "execution_count": 12,
   "id": "9d3e3c95",
   "metadata": {},
   "outputs": [],
   "source": [
    "def get_partition_df(df: pd.DataFrame, partition: str) -> pd.DataFrame:\n",
    "    \"\"\"\n",
    "    Get dataframe with only partition rows\n",
    "    \"\"\"\n",
    "    return df.loc[df_layer1[\"partition\"] == partition]"
   ]
  },
  {
   "cell_type": "code",
   "execution_count": 13,
   "id": "abfe1b2e",
   "metadata": {},
   "outputs": [],
   "source": [
    "# Seperate dataframe for each partitions and save them\n",
    "\n",
    "# df_train = get_partition_df(df3, \"train\")\n",
    "# df_train.to_csv(\"../dataset/train_filtered.csv\", index=False)\n",
    "\n",
    "df_val = get_partition_df(df3, \"val\")\n",
    "df_val.to_csv(\"../dataset/val_filtered.csv\", index=False)\n",
    "\n",
    "df_test = get_partition_df(df3, \"test\")\n",
    "df_test.to_csv(\"../dataset/test_filtered.csv\", index=False)"
   ]
  },
  {
   "cell_type": "code",
   "execution_count": 14,
   "id": "19462714",
   "metadata": {},
   "outputs": [
    {
     "data": {
      "text/plain": [
       "60758"
      ]
     },
     "execution_count": 14,
     "metadata": {},
     "output_type": "execute_result"
    }
   ],
   "source": [
    "len(df_val.index)"
   ]
  },
  {
   "cell_type": "code",
   "execution_count": 15,
   "id": "d1838282",
   "metadata": {},
   "outputs": [],
   "source": [
    "def filter_rows_with_image(csv_filename: str, partition: str, length: Optional[int] = None):\n",
    "    \"\"\"\n",
    "    Filter out the rows from csv that doesn't have images\n",
    "    in image directory\n",
    "    \"\"\"\n",
    "    \n",
    "    with open(f\"../dataset/{csv_filename}.csv\", 'r') as infile:\n",
    "        reader = csv.reader(infile)\n",
    "        \n",
    "        with open(f\"../dataset/{partition}_dataset_with_images.csv\", 'w') as outfile:\n",
    "            writer = csv.writer(outfile)\n",
    "            writer.writerow(next(reader))\n",
    "            \n",
    "            for row in tqdm(reader, total=length):\n",
    "                images = row[6].split(';')\n",
    "                count=0\n",
    "                valid_images = []\n",
    "\n",
    "                for image in images:\n",
    "                    if get_file(image, partition).exists():\n",
    "                        count+=1\n",
    "                        valid_images.append(image)\n",
    "                        \n",
    "                if count > 0:\n",
    "                    row[6] =  ';'.join(valid_images)\n",
    "                    writer.writerow(row)"
   ]
  },
  {
   "cell_type": "code",
   "execution_count": 16,
   "id": "a9181e30",
   "metadata": {},
   "outputs": [
    {
     "name": "stderr",
     "output_type": "stream",
     "text": [
      "100%|███████████████████████████████████████████████████████████████████████| 60758/60758 [03:23<00:00, 299.09it/s]\n",
      "100%|███████████████████████████████████████████████████████████████████████| 60109/60109 [02:42<00:00, 370.86it/s]\n"
     ]
    }
   ],
   "source": [
    "# filter_rows_with_image(\"train_filtered\", \"train\", length=len(df_train.index))\n",
    "\n",
    "filter_rows_with_image(\"val_filtered\", \"val\", length=len(df_val.index))\n",
    "\n",
    "filter_rows_with_image(\"test_filtered\", \"test\", length=len(df_test.index))"
   ]
  },
  {
   "cell_type": "code",
   "execution_count": 17,
   "id": "543a2f45",
   "metadata": {},
   "outputs": [],
   "source": [
    "# !ls -alh ../dataset/train_dataset_with_images.csv"
   ]
  },
  {
   "cell_type": "code",
   "execution_count": 18,
   "id": "42cbc5c5",
   "metadata": {},
   "outputs": [
    {
     "name": "stdout",
     "output_type": "stream",
     "text": [
      "\u001b[1;32m.\u001b[0m\u001b[32mr\u001b[33mw\u001b[31mx\u001b[32mr\u001b[33mw\u001b[31mx\u001b[32mr\u001b[33mw\u001b[31mx\u001b[0m \u001b[38;5;230mlucky\u001b[0m \u001b[38;5;187mlucky\u001b[0m \u001b[38;5;216m9.4\u001b[0m \u001b[38;5;216mMB\u001b[0m \u001b[38;5;40mFri Aug 20 18:38:19 2021\u001b[0m \u001b[1;32m ../dataset/val_dataset_with_images.csv\u001b[0m\r\n"
     ]
    }
   ],
   "source": [
    "!ls -alh ../dataset/val_dataset_with_images.csv"
   ]
  },
  {
   "cell_type": "code",
   "execution_count": 19,
   "id": "b5c3588d",
   "metadata": {},
   "outputs": [
    {
     "name": "stdout",
     "output_type": "stream",
     "text": [
      "\u001b[1;32m.\u001b[0m\u001b[32mr\u001b[33mw\u001b[31mx\u001b[32mr\u001b[33mw\u001b[31mx\u001b[32mr\u001b[33mw\u001b[31mx\u001b[0m \u001b[38;5;230mlucky\u001b[0m \u001b[38;5;187mlucky\u001b[0m \u001b[38;5;216m9.3\u001b[0m \u001b[38;5;216mMB\u001b[0m \u001b[38;5;40mFri Aug 20 18:41:01 2021\u001b[0m \u001b[1;32m ../dataset/test_dataset_with_images.csv\u001b[0m\r\n"
     ]
    }
   ],
   "source": [
    "!ls -alh ../dataset/test_dataset_with_images.csv"
   ]
  },
  {
   "cell_type": "code",
   "execution_count": 20,
   "id": "6553822b",
   "metadata": {},
   "outputs": [],
   "source": [
    "# pd.read_csv(\"../dataset/train_dataset_with_images.csv\").head()"
   ]
  },
  {
   "cell_type": "code",
   "execution_count": 21,
   "id": "e4027259",
   "metadata": {},
   "outputs": [
    {
     "data": {
      "text/html": [
       "<div>\n",
       "<style scoped>\n",
       "    .dataframe tbody tr th:only-of-type {\n",
       "        vertical-align: middle;\n",
       "    }\n",
       "\n",
       "    .dataframe tbody tr th {\n",
       "        vertical-align: top;\n",
       "    }\n",
       "\n",
       "    .dataframe thead th {\n",
       "        text-align: right;\n",
       "    }\n",
       "</style>\n",
       "<table border=\"1\" class=\"dataframe\">\n",
       "  <thead>\n",
       "    <tr style=\"text-align: right;\">\n",
       "      <th></th>\n",
       "      <th>id</th>\n",
       "      <th>title</th>\n",
       "      <th>partition</th>\n",
       "      <th>url</th>\n",
       "      <th>instructions</th>\n",
       "      <th>ingredients</th>\n",
       "      <th>image_file_names</th>\n",
       "    </tr>\n",
       "  </thead>\n",
       "  <tbody>\n",
       "    <tr>\n",
       "      <th>0</th>\n",
       "      <td>0015b21c43</td>\n",
       "      <td>Crabby Cheese Angel Hair Pasta</td>\n",
       "      <td>val</td>\n",
       "      <td>http://www.food.com/recipe/crabby-cheese-angel...</td>\n",
       "      <td>Cook Pasta according to pkg.;instructions; dra...</td>\n",
       "      <td>2 packages louis kemp Crab Delights Imitation ...</td>\n",
       "      <td>1218a2172d.jpg</td>\n",
       "    </tr>\n",
       "    <tr>\n",
       "      <th>1</th>\n",
       "      <td>0016145ed6</td>\n",
       "      <td>Blue Cheese and Citrus Dressing</td>\n",
       "      <td>val</td>\n",
       "      <td>http://www.food.com/recipe/blue-cheese-and-cit...</td>\n",
       "      <td>Blend everything in a blender.;Infuse love and...</td>\n",
       "      <td>3 12 ounces blue cheese;1 orange, juice of;1 s...</td>\n",
       "      <td>e1c6785e8c.jpg</td>\n",
       "    </tr>\n",
       "    <tr>\n",
       "      <th>2</th>\n",
       "      <td>00176e51aa</td>\n",
       "      <td>Baked Tofu and Veggie Stir-fry with Basmati Br...</td>\n",
       "      <td>val</td>\n",
       "      <td>http://tastykitchen.com/recipes/special-dietar...</td>\n",
       "      <td>Preheat oven to 400 F. Cut tofu into thin tria...</td>\n",
       "      <td>1 package Firm Or Extra Firm Tofu, 14-16 Ounce...</td>\n",
       "      <td>a3b050484a.jpg</td>\n",
       "    </tr>\n",
       "    <tr>\n",
       "      <th>3</th>\n",
       "      <td>001bd30cff</td>\n",
       "      <td>Grilled Leg of Lamb with Spiced Mustard and Ro...</td>\n",
       "      <td>val</td>\n",
       "      <td>http://www.epicurious.com/recipes/food/views/g...</td>\n",
       "      <td>Combine first 3 ingredients in small bowl.;Gra...</td>\n",
       "      <td>1 tablespoon dry mustard;1 teaspoon ground car...</td>\n",
       "      <td>a265866e73.jpg</td>\n",
       "    </tr>\n",
       "    <tr>\n",
       "      <th>4</th>\n",
       "      <td>002f5d86e5</td>\n",
       "      <td>Curried Sausages</td>\n",
       "      <td>val</td>\n",
       "      <td>http://www.food.com/recipe/curried-sausages-19...</td>\n",
       "      <td>Cover the sausages with cold water; bring to t...</td>\n",
       "      <td>8 links sausages (beef, chicken, lamb or pork ...</td>\n",
       "      <td>27593103db.jpg</td>\n",
       "    </tr>\n",
       "  </tbody>\n",
       "</table>\n",
       "</div>"
      ],
      "text/plain": [
       "           id                                              title partition  \\\n",
       "0  0015b21c43                     Crabby Cheese Angel Hair Pasta       val   \n",
       "1  0016145ed6                    Blue Cheese and Citrus Dressing       val   \n",
       "2  00176e51aa  Baked Tofu and Veggie Stir-fry with Basmati Br...       val   \n",
       "3  001bd30cff  Grilled Leg of Lamb with Spiced Mustard and Ro...       val   \n",
       "4  002f5d86e5                                   Curried Sausages       val   \n",
       "\n",
       "                                                 url  \\\n",
       "0  http://www.food.com/recipe/crabby-cheese-angel...   \n",
       "1  http://www.food.com/recipe/blue-cheese-and-cit...   \n",
       "2  http://tastykitchen.com/recipes/special-dietar...   \n",
       "3  http://www.epicurious.com/recipes/food/views/g...   \n",
       "4  http://www.food.com/recipe/curried-sausages-19...   \n",
       "\n",
       "                                        instructions  \\\n",
       "0  Cook Pasta according to pkg.;instructions; dra...   \n",
       "1  Blend everything in a blender.;Infuse love and...   \n",
       "2  Preheat oven to 400 F. Cut tofu into thin tria...   \n",
       "3  Combine first 3 ingredients in small bowl.;Gra...   \n",
       "4  Cover the sausages with cold water; bring to t...   \n",
       "\n",
       "                                         ingredients image_file_names  \n",
       "0  2 packages louis kemp Crab Delights Imitation ...   1218a2172d.jpg  \n",
       "1  3 12 ounces blue cheese;1 orange, juice of;1 s...   e1c6785e8c.jpg  \n",
       "2  1 package Firm Or Extra Firm Tofu, 14-16 Ounce...   a3b050484a.jpg  \n",
       "3  1 tablespoon dry mustard;1 teaspoon ground car...   a265866e73.jpg  \n",
       "4  8 links sausages (beef, chicken, lamb or pork ...   27593103db.jpg  "
      ]
     },
     "execution_count": 21,
     "metadata": {},
     "output_type": "execute_result"
    }
   ],
   "source": [
    "pd.read_csv(\"../dataset/val_dataset_with_images.csv\").head()"
   ]
  },
  {
   "cell_type": "code",
   "execution_count": 22,
   "id": "6198b83f",
   "metadata": {},
   "outputs": [
    {
     "data": {
      "text/html": [
       "<div>\n",
       "<style scoped>\n",
       "    .dataframe tbody tr th:only-of-type {\n",
       "        vertical-align: middle;\n",
       "    }\n",
       "\n",
       "    .dataframe tbody tr th {\n",
       "        vertical-align: top;\n",
       "    }\n",
       "\n",
       "    .dataframe thead th {\n",
       "        text-align: right;\n",
       "    }\n",
       "</style>\n",
       "<table border=\"1\" class=\"dataframe\">\n",
       "  <thead>\n",
       "    <tr style=\"text-align: right;\">\n",
       "      <th></th>\n",
       "      <th>id</th>\n",
       "      <th>title</th>\n",
       "      <th>partition</th>\n",
       "      <th>url</th>\n",
       "      <th>instructions</th>\n",
       "      <th>ingredients</th>\n",
       "      <th>image_file_names</th>\n",
       "    </tr>\n",
       "  </thead>\n",
       "  <tbody>\n",
       "    <tr>\n",
       "      <th>0</th>\n",
       "      <td>00183acce9</td>\n",
       "      <td>Italian Vegetarian Patties</td>\n",
       "      <td>test</td>\n",
       "      <td>http://allrecipes.com/recipe/italian-vegetaria...</td>\n",
       "      <td>Heat 2 tablespoons oil in a large saucepan.;St...</td>\n",
       "      <td>2 tablespoons vegetable oil;3/4 cup uncooked b...</td>\n",
       "      <td>4aa71d889a.jpg;89b3fa3935.jpg</td>\n",
       "    </tr>\n",
       "    <tr>\n",
       "      <th>1</th>\n",
       "      <td>001ee1021c</td>\n",
       "      <td>White Beans With Lemon, Garlic and Rosemary</td>\n",
       "      <td>test</td>\n",
       "      <td>http://www.food.com/recipe/white-beans-with-le...</td>\n",
       "      <td>In a small pan, combine the rosemary sprigs, o...</td>\n",
       "      <td>3 sprigs fresh rosemary (three inch long);14 c...</td>\n",
       "      <td>42893ae184.jpg;b2e2997c3e.jpg</td>\n",
       "    </tr>\n",
       "    <tr>\n",
       "      <th>2</th>\n",
       "      <td>00234a6bd1</td>\n",
       "      <td>Ants Climbing a Tree</td>\n",
       "      <td>test</td>\n",
       "      <td>http://tastykitchen.com/recipes/main-courses/a...</td>\n",
       "      <td>1.;Mix cornstarch and water into a slurry, the...</td>\n",
       "      <td>1 Tablespoon Cornstarch;1 Tablespoon Water;1/4...</td>\n",
       "      <td>89c648b622.jpg</td>\n",
       "    </tr>\n",
       "    <tr>\n",
       "      <th>3</th>\n",
       "      <td>0039542254</td>\n",
       "      <td>Vegetarian Japche</td>\n",
       "      <td>test</td>\n",
       "      <td>https://cookpad.com/us/recipes/154555-vegetari...</td>\n",
       "      <td>Boil the konnyaku noodles for 2-3 minutes (boi...</td>\n",
       "      <td>200 grams Konnyaku noodles (or cellophane nood...</td>\n",
       "      <td>e828eadfc3.jpg</td>\n",
       "    </tr>\n",
       "    <tr>\n",
       "      <th>4</th>\n",
       "      <td>0039c547a7</td>\n",
       "      <td>Coconut Milk Curry</td>\n",
       "      <td>test</td>\n",
       "      <td>https://cookpad.com/us/recipes/243747-coconut-...</td>\n",
       "      <td>Firstly cook some rice.;Dice the onion and gar...</td>\n",
       "      <td>200 g chicken;2 eggplants;1 carrot;1/2 onion;1...</td>\n",
       "      <td>205decf370.jpg</td>\n",
       "    </tr>\n",
       "  </tbody>\n",
       "</table>\n",
       "</div>"
      ],
      "text/plain": [
       "           id                                        title partition  \\\n",
       "0  00183acce9                   Italian Vegetarian Patties      test   \n",
       "1  001ee1021c  White Beans With Lemon, Garlic and Rosemary      test   \n",
       "2  00234a6bd1                         Ants Climbing a Tree      test   \n",
       "3  0039542254                            Vegetarian Japche      test   \n",
       "4  0039c547a7                           Coconut Milk Curry      test   \n",
       "\n",
       "                                                 url  \\\n",
       "0  http://allrecipes.com/recipe/italian-vegetaria...   \n",
       "1  http://www.food.com/recipe/white-beans-with-le...   \n",
       "2  http://tastykitchen.com/recipes/main-courses/a...   \n",
       "3  https://cookpad.com/us/recipes/154555-vegetari...   \n",
       "4  https://cookpad.com/us/recipes/243747-coconut-...   \n",
       "\n",
       "                                        instructions  \\\n",
       "0  Heat 2 tablespoons oil in a large saucepan.;St...   \n",
       "1  In a small pan, combine the rosemary sprigs, o...   \n",
       "2  1.;Mix cornstarch and water into a slurry, the...   \n",
       "3  Boil the konnyaku noodles for 2-3 minutes (boi...   \n",
       "4  Firstly cook some rice.;Dice the onion and gar...   \n",
       "\n",
       "                                         ingredients  \\\n",
       "0  2 tablespoons vegetable oil;3/4 cup uncooked b...   \n",
       "1  3 sprigs fresh rosemary (three inch long);14 c...   \n",
       "2  1 Tablespoon Cornstarch;1 Tablespoon Water;1/4...   \n",
       "3  200 grams Konnyaku noodles (or cellophane nood...   \n",
       "4  200 g chicken;2 eggplants;1 carrot;1/2 onion;1...   \n",
       "\n",
       "                image_file_names  \n",
       "0  4aa71d889a.jpg;89b3fa3935.jpg  \n",
       "1  42893ae184.jpg;b2e2997c3e.jpg  \n",
       "2                 89c648b622.jpg  \n",
       "3                 e828eadfc3.jpg  \n",
       "4                 205decf370.jpg  "
      ]
     },
     "execution_count": 22,
     "metadata": {},
     "output_type": "execute_result"
    }
   ],
   "source": [
    "pd.read_csv(\"../dataset/test_dataset_with_images.csv\").head()"
   ]
  },
  {
   "cell_type": "markdown",
   "id": "7e73f821",
   "metadata": {},
   "source": [
    "# Cleanup"
   ]
  },
  {
   "cell_type": "code",
   "execution_count": 23,
   "id": "046b02c8",
   "metadata": {},
   "outputs": [],
   "source": [
    "# !rm ../dataset/filtered.csv"
   ]
  }
 ],
 "metadata": {
  "kernelspec": {
   "display_name": "bct-major-project",
   "language": "python",
   "name": "bct-major-project"
  },
  "language_info": {
   "codemirror_mode": {
    "name": "ipython",
    "version": 3
   },
   "file_extension": ".py",
   "mimetype": "text/x-python",
   "name": "python",
   "nbconvert_exporter": "python",
   "pygments_lexer": "ipython3",
   "version": "3.9.6"
  }
 },
 "nbformat": 4,
 "nbformat_minor": 5
}
