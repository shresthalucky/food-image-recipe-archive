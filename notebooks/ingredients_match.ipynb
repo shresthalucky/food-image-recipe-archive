{
 "cells": [
  {
   "cell_type": "code",
   "execution_count": 1,
   "id": "938f05ea",
   "metadata": {},
   "outputs": [],
   "source": [
    "import pandas as pd"
   ]
  },
  {
   "cell_type": "code",
   "execution_count": null,
   "id": "c8bf8a95",
   "metadata": {},
   "outputs": [],
   "source": [
    "det_ingrs = pd.read_csv(\"../dataset/det_ingrs.csv\")\n",
    "det_ingrs.head()"
   ]
  },
  {
   "cell_type": "code",
   "execution_count": 3,
   "id": "da3f9c1c",
   "metadata": {},
   "outputs": [
    {
     "data": {
      "text/html": [
       "<div>\n",
       "<style scoped>\n",
       "    .dataframe tbody tr th:only-of-type {\n",
       "        vertical-align: middle;\n",
       "    }\n",
       "\n",
       "    .dataframe tbody tr th {\n",
       "        vertical-align: top;\n",
       "    }\n",
       "\n",
       "    .dataframe thead th {\n",
       "        text-align: right;\n",
       "    }\n",
       "</style>\n",
       "<table border=\"1\" class=\"dataframe\">\n",
       "  <thead>\n",
       "    <tr style=\"text-align: right;\">\n",
       "      <th></th>\n",
       "      <th>id</th>\n",
       "      <th>ingredients</th>\n",
       "    </tr>\n",
       "  </thead>\n",
       "  <tbody>\n",
       "    <tr>\n",
       "      <th>0</th>\n",
       "      <td>000018c8a5</td>\n",
       "      <td>penne;cheese sauce;cheddar cheese;gruyere chee...</td>\n",
       "    </tr>\n",
       "    <tr>\n",
       "      <th>1</th>\n",
       "      <td>000033e39b</td>\n",
       "      <td>elbow macaroni;American cheese;celery;green pe...</td>\n",
       "    </tr>\n",
       "    <tr>\n",
       "      <th>2</th>\n",
       "      <td>000035f7ed</td>\n",
       "      <td>tomatoes;kosher salt;red onion;green bell pepp...</td>\n",
       "    </tr>\n",
       "    <tr>\n",
       "      <th>3</th>\n",
       "      <td>00003a70b1</td>\n",
       "      <td>milk;water;butter;mashed potatoes;whole kernel...</td>\n",
       "    </tr>\n",
       "    <tr>\n",
       "      <th>4</th>\n",
       "      <td>00004320bb</td>\n",
       "      <td>watermelon gelatin;boiling water;Cool Whip;see...</td>\n",
       "    </tr>\n",
       "  </tbody>\n",
       "</table>\n",
       "</div>"
      ],
      "text/plain": [
       "           id                                        ingredients\n",
       "0  000018c8a5  penne;cheese sauce;cheddar cheese;gruyere chee...\n",
       "1  000033e39b  elbow macaroni;American cheese;celery;green pe...\n",
       "2  000035f7ed  tomatoes;kosher salt;red onion;green bell pepp...\n",
       "3  00003a70b1  milk;water;butter;mashed potatoes;whole kernel...\n",
       "4  00004320bb  watermelon gelatin;boiling water;Cool Whip;see..."
      ]
     },
     "execution_count": 3,
     "metadata": {},
     "output_type": "execute_result"
    }
   ],
   "source": [
    "det_ingrs = pd.read_csv(\"../dataset/det_ingrs.csv\")\n",
    "det_ingrs.head()"
   ]
  },
  {
   "cell_type": "code",
   "execution_count": 4,
   "id": "f475b7a0",
   "metadata": {},
   "outputs": [
    {
     "data": {
      "text/html": [
       "<div>\n",
       "<style scoped>\n",
       "    .dataframe tbody tr th:only-of-type {\n",
       "        vertical-align: middle;\n",
       "    }\n",
       "\n",
       "    .dataframe tbody tr th {\n",
       "        vertical-align: top;\n",
       "    }\n",
       "\n",
       "    .dataframe thead th {\n",
       "        text-align: right;\n",
       "    }\n",
       "</style>\n",
       "<table border=\"1\" class=\"dataframe\">\n",
       "  <thead>\n",
       "    <tr style=\"text-align: right;\">\n",
       "      <th></th>\n",
       "      <th>ingredients</th>\n",
       "      <th>id</th>\n",
       "    </tr>\n",
       "  </thead>\n",
       "  <tbody>\n",
       "    <tr>\n",
       "      <th>0</th>\n",
       "      <td>penne;gruyere cheese;milk;garlic powder</td>\n",
       "      <td>000018c8a5</td>\n",
       "    </tr>\n",
       "    <tr>\n",
       "      <th>1</th>\n",
       "      <td>macaroni;celery;pimentos;mayonnaise;salt;dill ...</td>\n",
       "      <td>000033e39b</td>\n",
       "    </tr>\n",
       "    <tr>\n",
       "      <th>2</th>\n",
       "      <td>tomatoes;cucumber;olive oil</td>\n",
       "      <td>000035f7ed</td>\n",
       "    </tr>\n",
       "    <tr>\n",
       "      <th>3</th>\n",
       "      <td>milk;water;butter;potatoes;onions</td>\n",
       "      <td>00003a70b1</td>\n",
       "    </tr>\n",
       "    <tr>\n",
       "      <th>4</th>\n",
       "      <td>coconut;garlic;salt;black pepper;cornstarch;pi...</td>\n",
       "      <td>0000631d90</td>\n",
       "    </tr>\n",
       "  </tbody>\n",
       "</table>\n",
       "</div>"
      ],
      "text/plain": [
       "                                         ingredients          id\n",
       "0            penne;gruyere cheese;milk;garlic powder  000018c8a5\n",
       "1  macaroni;celery;pimentos;mayonnaise;salt;dill ...  000033e39b\n",
       "2                        tomatoes;cucumber;olive oil  000035f7ed\n",
       "3                  milk;water;butter;potatoes;onions  00003a70b1\n",
       "4  coconut;garlic;salt;black pepper;cornstarch;pi...  0000631d90"
      ]
     },
     "execution_count": 4,
     "metadata": {},
     "output_type": "execute_result"
    }
   ],
   "source": [
    "ner_ingrs = pd.read_csv(\"../dataset/ingredients_ner.csv\")\n",
    "ner_ingrs.head()"
   ]
  },
  {
   "cell_type": "code",
   "execution_count": 9,
   "id": "cc9863cd",
   "metadata": {},
   "outputs": [],
   "source": [
    "pd.set_option('display.max_colwidth', None)"
   ]
  },
  {
   "cell_type": "code",
   "execution_count": 13,
   "id": "9232989b",
   "metadata": {},
   "outputs": [
    {
     "data": {
      "text/plain": [
       "1376    icing;icing;white fondant;red food coloring;icing;jam;unsalted butter;sugar;eggs;vanilla;self raising flour;baking powder;milk;cocoa;unsalted butter;icing sugar\n",
       "Name: ingredients, dtype: object"
      ]
     },
     "execution_count": 13,
     "metadata": {},
     "output_type": "execute_result"
    }
   ],
   "source": [
    "det_ingrs.loc[det_ingrs[\"id\"] == \"005a64e1a7\"][\"ingredients\"]"
   ]
  },
  {
   "cell_type": "code",
   "execution_count": 15,
   "id": "887f50c5",
   "metadata": {},
   "outputs": [
    {
     "data": {
      "text/plain": [
       "1033    icing and;butter;sugar;eggs;milk;cocoa\n",
       "Name: ingredients, dtype: object"
      ]
     },
     "execution_count": 15,
     "metadata": {},
     "output_type": "execute_result"
    }
   ],
   "source": [
    "ner_ingrs.loc[ner_ingrs[\"id\"] == \"005a64e1a7\"][\"ingredients\"]"
   ]
  },
  {
   "cell_type": "code",
   "execution_count": 22,
   "id": "7f0c99f5",
   "metadata": {},
   "outputs": [],
   "source": [
    "df_layer1 = pd.read_csv(\"../dataset/layer1.csv\")"
   ]
  },
  {
   "cell_type": "code",
   "execution_count": 23,
   "id": "cd964877",
   "metadata": {},
   "outputs": [
    {
     "data": {
      "text/plain": [
       "1376    1 black fondant icing;1 kg Yellow Fondant Icing;1 White fondant;1 red food dye;1 black food dye (to make grey);1 two halves of Vanilla sponge;1 buttercream icing (of a preferred flavour);1 jam (of a prefered flavour);450 grams unsalted butter;450 grams sugar;8 eggs;2 tbsp vanilla;450 grams self raising flour;4 tsp baking powder;4 tbsp milk;3 tbsp Cocoa;250 grams unsalted butter;250 grams icing sugar\n",
       "Name: ingredients, dtype: object"
      ]
     },
     "execution_count": 23,
     "metadata": {},
     "output_type": "execute_result"
    }
   ],
   "source": [
    "df_layer1.loc[df_layer1[\"id\"] == \"005a64e1a7\"][\"ingredients\"]"
   ]
  }
 ],
 "metadata": {
  "kernelspec": {
   "display_name": "Python 3 (ipykernel)",
   "language": "python",
   "name": "python3"
  },
  "language_info": {
   "codemirror_mode": {
    "name": "ipython",
    "version": 3
   },
   "file_extension": ".py",
   "mimetype": "text/x-python",
   "name": "python",
   "nbconvert_exporter": "python",
   "pygments_lexer": "ipython3",
   "version": "3.9.9"
  }
 },
 "nbformat": 4,
 "nbformat_minor": 5
}
