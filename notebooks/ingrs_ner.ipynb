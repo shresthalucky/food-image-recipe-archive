{
 "cells": [
  {
   "cell_type": "code",
   "execution_count": 34,
   "metadata": {},
   "outputs": [],
   "source": [
    "import spacy\n",
    "import pandas as pd\n",
    "from tqdm import tqdm\n",
    "\n",
    "tqdm.pandas()"
   ]
  },
  {
   "cell_type": "code",
   "execution_count": 3,
   "metadata": {},
   "outputs": [],
   "source": [
    "det_ingrs = pd.read_csv(\"./dataset/det_ingrs.csv\")"
   ]
  },
  {
   "cell_type": "code",
   "execution_count": 118,
   "metadata": {},
   "outputs": [
    {
     "data": {
      "text/html": [
       "<div>\n",
       "<style scoped>\n",
       "    .dataframe tbody tr th:only-of-type {\n",
       "        vertical-align: middle;\n",
       "    }\n",
       "\n",
       "    .dataframe tbody tr th {\n",
       "        vertical-align: top;\n",
       "    }\n",
       "\n",
       "    .dataframe thead th {\n",
       "        text-align: right;\n",
       "    }\n",
       "</style>\n",
       "<table border=\"1\" class=\"dataframe\">\n",
       "  <thead>\n",
       "    <tr style=\"text-align: right;\">\n",
       "      <th></th>\n",
       "      <th>id</th>\n",
       "      <th>ingredients</th>\n",
       "    </tr>\n",
       "  </thead>\n",
       "  <tbody>\n",
       "    <tr>\n",
       "      <th>0</th>\n",
       "      <td>000018c8a5</td>\n",
       "      <td>penne;cheese sauce;cheddar cheese;gruyere chee...</td>\n",
       "    </tr>\n",
       "    <tr>\n",
       "      <th>1</th>\n",
       "      <td>000033e39b</td>\n",
       "      <td>elbow macaroni;American cheese;celery;green pe...</td>\n",
       "    </tr>\n",
       "    <tr>\n",
       "      <th>2</th>\n",
       "      <td>000035f7ed</td>\n",
       "      <td>tomatoes;kosher salt;red onion;green bell pepp...</td>\n",
       "    </tr>\n",
       "    <tr>\n",
       "      <th>3</th>\n",
       "      <td>00003a70b1</td>\n",
       "      <td>milk;water;butter;mashed potatoes;whole kernel...</td>\n",
       "    </tr>\n",
       "    <tr>\n",
       "      <th>4</th>\n",
       "      <td>00004320bb</td>\n",
       "      <td>watermelon gelatin;boiling water;Cool Whip;see...</td>\n",
       "    </tr>\n",
       "    <tr>\n",
       "      <th>5</th>\n",
       "      <td>0000631d90</td>\n",
       "      <td>shredded coconut;lean ground beef;fresh garlic...</td>\n",
       "    </tr>\n",
       "    <tr>\n",
       "      <th>6</th>\n",
       "      <td>000075604a</td>\n",
       "      <td>chicken thighs;tea;white pepper</td>\n",
       "    </tr>\n",
       "    <tr>\n",
       "      <th>7</th>\n",
       "      <td>00007bfd16</td>\n",
       "      <td>fresh rhubarb;frozen rhubarb;granulated sugar;...</td>\n",
       "    </tr>\n",
       "    <tr>\n",
       "      <th>8</th>\n",
       "      <td>000095fc1d</td>\n",
       "      <td>non - fat vanilla yogurt;strawberries;low - fa...</td>\n",
       "    </tr>\n",
       "    <tr>\n",
       "      <th>9</th>\n",
       "      <td>0000973574</td>\n",
       "      <td>flour;cinnamon;baking soda;salt;baking powder;...</td>\n",
       "    </tr>\n",
       "    <tr>\n",
       "      <th>10</th>\n",
       "      <td>0000a4bcf6</td>\n",
       "      <td>green onions;red peppers;extra virgin olive oi...</td>\n",
       "    </tr>\n",
       "    <tr>\n",
       "      <th>11</th>\n",
       "      <td>0000b1e2b5</td>\n",
       "      <td>fennel seeds;pork tenderloin;fennel bulbs;oliv...</td>\n",
       "    </tr>\n",
       "    <tr>\n",
       "      <th>12</th>\n",
       "      <td>0000c79afb</td>\n",
       "      <td>rose wine;brandy;orange liqueur;white cranberr...</td>\n",
       "    </tr>\n",
       "    <tr>\n",
       "      <th>13</th>\n",
       "      <td>0000ed95f8</td>\n",
       "      <td>butter;brown sugar;egg;orange juice concentrat...</td>\n",
       "    </tr>\n",
       "    <tr>\n",
       "      <th>14</th>\n",
       "      <td>00010379bf</td>\n",
       "      <td>cake flour;baking powder;sugar;white sesame se...</td>\n",
       "    </tr>\n",
       "    <tr>\n",
       "      <th>15</th>\n",
       "      <td>000106ec3c</td>\n",
       "      <td>medium cheddar;potatoes;white onion;hamburger</td>\n",
       "    </tr>\n",
       "    <tr>\n",
       "      <th>16</th>\n",
       "      <td>00010c7867</td>\n",
       "      <td>ground beef;oats;tomato juice;egg;salt;pepper;...</td>\n",
       "    </tr>\n",
       "    <tr>\n",
       "      <th>17</th>\n",
       "      <td>00010d44c7</td>\n",
       "      <td>frozen chopped broccoli;cooked rice;shredded c...</td>\n",
       "    </tr>\n",
       "    <tr>\n",
       "      <th>18</th>\n",
       "      <td>00011e0b2c</td>\n",
       "      <td>marinade;asparagus spears;flour tortillas</td>\n",
       "    </tr>\n",
       "    <tr>\n",
       "      <th>19</th>\n",
       "      <td>00011fc1f9</td>\n",
       "      <td>lentils;onions;tomatoes;carrots;celery;extra v...</td>\n",
       "    </tr>\n",
       "    <tr>\n",
       "      <th>20</th>\n",
       "      <td>000128a538</td>\n",
       "      <td>soymilk;frozen blueberries;rolled oats;sweeten...</td>\n",
       "    </tr>\n",
       "    <tr>\n",
       "      <th>21</th>\n",
       "      <td>00013266c9</td>\n",
       "      <td>salted butter;granulated sugar;vanilla extract...</td>\n",
       "    </tr>\n",
       "    <tr>\n",
       "      <th>22</th>\n",
       "      <td>00015b5a39</td>\n",
       "      <td>potatoes;red wine;teriyaki sauce;garlic;sour c...</td>\n",
       "    </tr>\n",
       "    <tr>\n",
       "      <th>23</th>\n",
       "      <td>00016355e6</td>\n",
       "      <td>vanilla wafer cookie;bananas;coconut milk;fat ...</td>\n",
       "    </tr>\n",
       "    <tr>\n",
       "      <th>24</th>\n",
       "      <td>0001678f7a</td>\n",
       "      <td>rice paper sheets;halibut;foie gras;salt and b...</td>\n",
       "    </tr>\n",
       "    <tr>\n",
       "      <th>25</th>\n",
       "      <td>00016d71a4</td>\n",
       "      <td>graham wafers;vanilla ice cream;frozen lemonad...</td>\n",
       "    </tr>\n",
       "    <tr>\n",
       "      <th>26</th>\n",
       "      <td>00018371f2</td>\n",
       "      <td>juice;granulated sugar</td>\n",
       "    </tr>\n",
       "    <tr>\n",
       "      <th>27</th>\n",
       "      <td>0001960f61</td>\n",
       "      <td>cinnamon - swirl bread;cream cheese;apples;egg...</td>\n",
       "    </tr>\n",
       "    <tr>\n",
       "      <th>28</th>\n",
       "      <td>00019675ca</td>\n",
       "      <td>crabmeat;sour cream;whipped cream cheese;chees...</td>\n",
       "    </tr>\n",
       "    <tr>\n",
       "      <th>29</th>\n",
       "      <td>0001a2f336</td>\n",
       "      <td>sweet Italian sausage;mozzarella cheese;italia...</td>\n",
       "    </tr>\n",
       "    <tr>\n",
       "      <th>30</th>\n",
       "      <td>0001bdeec0</td>\n",
       "      <td>leeks;smoked bacon;unsalted butter;kosher salt...</td>\n",
       "    </tr>\n",
       "    <tr>\n",
       "      <th>31</th>\n",
       "      <td>0001cba765</td>\n",
       "      <td>orange juice;white tequila;triple sec;cranberr...</td>\n",
       "    </tr>\n",
       "    <tr>\n",
       "      <th>32</th>\n",
       "      <td>0001d356b6</td>\n",
       "      <td>granulated sugar;unsalted butter;egg whites;le...</td>\n",
       "    </tr>\n",
       "    <tr>\n",
       "      <th>33</th>\n",
       "      <td>0001d6acb7</td>\n",
       "      <td>unsalted butter;all - purpose flour;whole milk...</td>\n",
       "    </tr>\n",
       "    <tr>\n",
       "      <th>34</th>\n",
       "      <td>0001d81db6</td>\n",
       "      <td>avocados;garlic clove;cream cheese;limes;cilan...</td>\n",
       "    </tr>\n",
       "    <tr>\n",
       "      <th>35</th>\n",
       "      <td>000238353f</td>\n",
       "      <td>pork sausage;onion;garlic clove;thyme;marmalad...</td>\n",
       "    </tr>\n",
       "    <tr>\n",
       "      <th>36</th>\n",
       "      <td>0002491373</td>\n",
       "      <td>nonstick cooking spray;green pepper;red pepper...</td>\n",
       "    </tr>\n",
       "    <tr>\n",
       "      <th>37</th>\n",
       "      <td>00025af750</td>\n",
       "      <td>hot banana pepper;yellow tomatoes;yellow peppe...</td>\n",
       "    </tr>\n",
       "    <tr>\n",
       "      <th>38</th>\n",
       "      <td>00027b61de</td>\n",
       "      <td>lobster tails;butter;lemon juice;garlic salt</td>\n",
       "    </tr>\n",
       "    <tr>\n",
       "      <th>39</th>\n",
       "      <td>00029df38f</td>\n",
       "      <td>egg white;salt;brown sugar;all - purpose flour...</td>\n",
       "    </tr>\n",
       "  </tbody>\n",
       "</table>\n",
       "</div>"
      ],
      "text/plain": [
       "            id                                        ingredients\n",
       "0   000018c8a5  penne;cheese sauce;cheddar cheese;gruyere chee...\n",
       "1   000033e39b  elbow macaroni;American cheese;celery;green pe...\n",
       "2   000035f7ed  tomatoes;kosher salt;red onion;green bell pepp...\n",
       "3   00003a70b1  milk;water;butter;mashed potatoes;whole kernel...\n",
       "4   00004320bb  watermelon gelatin;boiling water;Cool Whip;see...\n",
       "5   0000631d90  shredded coconut;lean ground beef;fresh garlic...\n",
       "6   000075604a                    chicken thighs;tea;white pepper\n",
       "7   00007bfd16  fresh rhubarb;frozen rhubarb;granulated sugar;...\n",
       "8   000095fc1d  non - fat vanilla yogurt;strawberries;low - fa...\n",
       "9   0000973574  flour;cinnamon;baking soda;salt;baking powder;...\n",
       "10  0000a4bcf6  green onions;red peppers;extra virgin olive oi...\n",
       "11  0000b1e2b5  fennel seeds;pork tenderloin;fennel bulbs;oliv...\n",
       "12  0000c79afb  rose wine;brandy;orange liqueur;white cranberr...\n",
       "13  0000ed95f8  butter;brown sugar;egg;orange juice concentrat...\n",
       "14  00010379bf  cake flour;baking powder;sugar;white sesame se...\n",
       "15  000106ec3c      medium cheddar;potatoes;white onion;hamburger\n",
       "16  00010c7867  ground beef;oats;tomato juice;egg;salt;pepper;...\n",
       "17  00010d44c7  frozen chopped broccoli;cooked rice;shredded c...\n",
       "18  00011e0b2c          marinade;asparagus spears;flour tortillas\n",
       "19  00011fc1f9  lentils;onions;tomatoes;carrots;celery;extra v...\n",
       "20  000128a538  soymilk;frozen blueberries;rolled oats;sweeten...\n",
       "21  00013266c9  salted butter;granulated sugar;vanilla extract...\n",
       "22  00015b5a39  potatoes;red wine;teriyaki sauce;garlic;sour c...\n",
       "23  00016355e6  vanilla wafer cookie;bananas;coconut milk;fat ...\n",
       "24  0001678f7a  rice paper sheets;halibut;foie gras;salt and b...\n",
       "25  00016d71a4  graham wafers;vanilla ice cream;frozen lemonad...\n",
       "26  00018371f2                             juice;granulated sugar\n",
       "27  0001960f61  cinnamon - swirl bread;cream cheese;apples;egg...\n",
       "28  00019675ca  crabmeat;sour cream;whipped cream cheese;chees...\n",
       "29  0001a2f336  sweet Italian sausage;mozzarella cheese;italia...\n",
       "30  0001bdeec0  leeks;smoked bacon;unsalted butter;kosher salt...\n",
       "31  0001cba765  orange juice;white tequila;triple sec;cranberr...\n",
       "32  0001d356b6  granulated sugar;unsalted butter;egg whites;le...\n",
       "33  0001d6acb7  unsalted butter;all - purpose flour;whole milk...\n",
       "34  0001d81db6  avocados;garlic clove;cream cheese;limes;cilan...\n",
       "35  000238353f  pork sausage;onion;garlic clove;thyme;marmalad...\n",
       "36  0002491373  nonstick cooking spray;green pepper;red pepper...\n",
       "37  00025af750  hot banana pepper;yellow tomatoes;yellow peppe...\n",
       "38  00027b61de       lobster tails;butter;lemon juice;garlic salt\n",
       "39  00029df38f  egg white;salt;brown sugar;all - purpose flour..."
      ]
     },
     "execution_count": 118,
     "metadata": {},
     "output_type": "execute_result"
    }
   ],
   "source": [
    "det_ingrs.head(40)"
   ]
  },
  {
   "cell_type": "code",
   "execution_count": 5,
   "metadata": {},
   "outputs": [
    {
     "data": {
      "text/plain": [
       "False"
      ]
     },
     "execution_count": 5,
     "metadata": {},
     "output_type": "execute_result"
    }
   ],
   "source": [
    "spacy.prefer_gpu()"
   ]
  },
  {
   "cell_type": "code",
   "execution_count": 9,
   "metadata": {},
   "outputs": [],
   "source": [
    "# spacy.require_gpu()\n",
    "# spacy.prefer_gpu()\n",
    "nlp = spacy.load(\"model\")"
   ]
  },
  {
   "cell_type": "code",
   "execution_count": 10,
   "metadata": {},
   "outputs": [],
   "source": [
    "def apply_ner(row):\n",
    "    # ner_inrgs = ()\n",
    "\n",
    "    sente = ' and '.join(row.split(\";\"))\n",
    "    # print(sente)\n",
    "\n",
    "    ner_inrgs = nlp(sente)\n",
    "\n",
    "    l = ner_inrgs.ents\n",
    "\n",
    "\n",
    "    # for ingr in row.split(\";\").join(' and '):\n",
    "    #     doc = nlp(ingr)\n",
    "    #     ner_inrgs = ner_inrgs + doc.ents\n",
    "\n",
    "    ner = \";\".join(str(x) for x in l)\n",
    "\n",
    "    return ner\n"
   ]
  },
  {
   "cell_type": "code",
   "execution_count": 11,
   "metadata": {},
   "outputs": [],
   "source": [
    "det_ingrs.dropna(inplace=True)"
   ]
  },
  {
   "cell_type": "code",
   "execution_count": 12,
   "metadata": {},
   "outputs": [
    {
     "name": "stderr",
     "output_type": "stream",
     "text": [
      "100%|█████████████████████████████████████████████| 1028697/1028697 [33:13<00:00, 516.04it/s]\n"
     ]
    }
   ],
   "source": [
    "temp = det_ingrs[\"ingredients\"].progress_map(apply_ner)"
   ]
  },
  {
   "cell_type": "code",
   "execution_count": 14,
   "metadata": {},
   "outputs": [],
   "source": [
    "temp = pd.DataFrame(temp)"
   ]
  },
  {
   "cell_type": "code",
   "execution_count": 29,
   "metadata": {},
   "outputs": [],
   "source": [
    "temp.to_csv(\"ingredients.csv\", index=False)"
   ]
  },
  {
   "cell_type": "code",
   "execution_count": 27,
   "metadata": {},
   "outputs": [],
   "source": [
    "temp['id'] = det_ingrs['id']"
   ]
  },
  {
   "cell_type": "code",
   "execution_count": 130,
   "metadata": {},
   "outputs": [],
   "source": [
    "ingr_gt_2 = temp[temp['ingredients'].str.split(';').str.len() > 2]\n",
    "ingr_gt_2.to_csv(\"more_than_2_ingredients.csv\", index=False)"
   ]
  },
  {
   "cell_type": "code",
   "execution_count": 131,
   "metadata": {},
   "outputs": [
    {
     "data": {
      "text/plain": [
       "781553"
      ]
     },
     "execution_count": 131,
     "metadata": {},
     "output_type": "execute_result"
    }
   ],
   "source": [
    "len(ingr_gt_2)"
   ]
  },
  {
   "cell_type": "code",
   "execution_count": 121,
   "metadata": {},
   "outputs": [
    {
     "data": {
      "text/plain": [
       "0          000018c8a5\n",
       "1          000033e39b\n",
       "2          000035f7ed\n",
       "3          00003a70b1\n",
       "4          00004320bb\n",
       "              ...    \n",
       "1029715    ffffbb45d2\n",
       "1029716    ffffcd4444\n",
       "1029717    ffffd33513\n",
       "1029718    ffffd533d7\n",
       "1029719    ffffdea29a\n",
       "Name: id, Length: 1028697, dtype: object"
      ]
     },
     "execution_count": 121,
     "metadata": {},
     "output_type": "execute_result"
    }
   ],
   "source": [
    "# temp[temp['id'] == '00018371f2']\n",
    "det_ingrs['id']"
   ]
  },
  {
   "cell_type": "code",
   "execution_count": 123,
   "metadata": {},
   "outputs": [
    {
     "data": {
      "text/plain": [
       "1028697"
      ]
     },
     "execution_count": 123,
     "metadata": {},
     "output_type": "execute_result"
    }
   ],
   "source": []
  }
 ],
 "metadata": {
  "interpreter": {
   "hash": "d4453d10cbb7302403ecc4b4898b5b04cd0c9f9ac50dd15d7f6e0e1834e05fb2"
  },
  "kernelspec": {
   "display_name": "Python 3 (ipykernel)",
   "language": "python",
   "name": "python3"
  },
  "language_info": {
   "codemirror_mode": {
    "name": "ipython",
    "version": 3
   },
   "file_extension": ".py",
   "mimetype": "text/x-python",
   "name": "python",
   "nbconvert_exporter": "python",
   "pygments_lexer": "ipython3",
   "version": "3.9.9"
  }
 },
 "nbformat": 4,
 "nbformat_minor": 2
}
