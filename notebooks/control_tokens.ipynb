{
 "cells": [
  {
   "cell_type": "code",
   "execution_count": 1,
   "id": "318fd4ed",
   "metadata": {},
   "outputs": [],
   "source": [
    "import pickle\n",
    "import pandas as pd"
   ]
  },
  {
   "cell_type": "code",
   "execution_count": 2,
   "id": "5e2035e3",
   "metadata": {},
   "outputs": [],
   "source": [
    "ingrs = pickle.load(open(\"./cluster_ingrs.pkl\", \"rb\"))\n",
    "\n",
    "# mixed_base = {}\n",
    "# for base, mixed in ingrs.items():\n",
    "#     for ing in mixed:\n",
    "#         mixed_base[ing] = base"
   ]
  },
  {
   "cell_type": "code",
   "execution_count": 3,
   "id": "93f04fe5",
   "metadata": {},
   "outputs": [],
   "source": [
    "class Vocabulary(object):\n",
    "    \"\"\"Simple vocabulary wrapper.\"\"\"\n",
    "    def __init__(self):\n",
    "        self.word2idx = {}\n",
    "        self.idx2word = {}\n",
    "        self.idx = 0\n",
    "\n",
    "    def add_word(self, word, idx=None):\n",
    "        if idx is None:\n",
    "            if not word in self.word2idx:\n",
    "                self.word2idx[word] = self.idx\n",
    "                self.idx2word[self.idx] = word\n",
    "                self.idx += 1\n",
    "            return self.idx\n",
    "        else:\n",
    "            if not word in self.word2idx:\n",
    "                self.word2idx[word] = idx\n",
    "                if idx in self.idx2word.keys():\n",
    "                    self.idx2word[idx].append(word)\n",
    "                else:\n",
    "                    self.idx2word[idx] = [word]\n",
    "\n",
    "                return idx\n",
    "\n",
    "    def __call__(self, word):\n",
    "        if not word in self.word2idx:\n",
    "            return self.word2idx['<pad>']\n",
    "        return self.word2idx[word]\n",
    "\n",
    "    def __len__(self):\n",
    "        return len(self.idx2word)"
   ]
  },
  {
   "cell_type": "code",
   "execution_count": 4,
   "id": "c2862e97",
   "metadata": {},
   "outputs": [],
   "source": [
    "vocab = pickle.load(open(\"./dataset/pickle/recipe1m_vocab_toks.pkl\", \"rb\"))\n",
    "ingrs_vocab = pickle.load(open('./dataset/pickle/recipe1m_vocab_ingrs.pkl', \"rb\"))"
   ]
  },
  {
   "cell_type": "code",
   "execution_count": 5,
   "id": "6d23477f",
   "metadata": {},
   "outputs": [],
   "source": [
    "# add ingredients to vocab which are not in vocab\n",
    "\n",
    "extra_ingrs = list(set(ingrs.keys()) - set(vocab.word2idx.keys()))\n",
    "\n",
    "for ing in extra_ingrs:\n",
    "    vocab.add_word(ing)"
   ]
  },
  {
   "cell_type": "code",
   "execution_count": 6,
   "id": "7b70698f",
   "metadata": {},
   "outputs": [],
   "source": [
    "import json\n",
    "\n",
    "extra_tokens = [\"<next_inst>\", \"<title_start>\", \"<title_end>\", \"<inst_start>\", \"<inst_end>, <unknown>\"]\n",
    "\n",
    "for token in extra_tokens:\n",
    "    vocab.add_word(token)\n",
    "\n",
    "json.dump(vocab.word2idx, open(\"./dataset/recipe1m_vocab_tokens.json\", \"w\"))"
   ]
  }
 ],
 "metadata": {
  "kernelspec": {
   "display_name": "bct-major-project",
   "language": "python",
   "name": "bct-major-project"
  },
  "language_info": {
   "codemirror_mode": {
    "name": "ipython",
    "version": 3
   },
   "file_extension": ".py",
   "mimetype": "text/x-python",
   "name": "python",
   "nbconvert_exporter": "python",
   "pygments_lexer": "ipython3",
   "version": "3.9.10"
  }
 },
 "nbformat": 4,
 "nbformat_minor": 5
}
